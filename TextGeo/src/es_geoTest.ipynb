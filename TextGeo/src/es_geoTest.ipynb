{
 "cells": [
  {
   "cell_type": "code",
   "execution_count": 1,
   "metadata": {},
   "outputs": [
    {
     "name": "stderr",
     "output_type": "stream",
     "text": [
      "/home/sathappan/.local/lib/python2.7/site-packages/pandas/core/computation/__init__.py:18: UserWarning: The installed version of numexpr 2.4.3 is not supported in pandas and will be not be used\n",
      "The minimum supported version is 2.4.6\n",
      "\n",
      "  ver=ver, min_ver=_MIN_NUMEXPR_VERSION), UserWarning)\n"
     ]
    }
   ],
   "source": [
    "from geoutils.dbManager import ESWrapper\n",
    "from geocode import BaseGeo\n",
    "db = ESWrapper(\"geonames\", \"places\")"
   ]
  },
  {
   "cell_type": "code",
   "execution_count": 2,
   "metadata": {},
   "outputs": [],
   "source": [
    "geo = BaseGeo(db, min_popln=0)"
   ]
  },
  {
   "cell_type": "code",
   "execution_count": null,
   "metadata": {},
   "outputs": [],
   "source": []
  },
  {
   "cell_type": "code",
   "execution_count": 3,
   "metadata": {},
   "outputs": [],
   "source": [
    "import json\n",
    "a = open(\"/home/sathappan/enrichment/ICEWS-Data/jasonSchlachter_data/enricheddata/azerbaijan_keywords.mjson\")"
   ]
  },
  {
   "cell_type": "code",
   "execution_count": 4,
   "metadata": {},
   "outputs": [],
   "source": [
    "j = json.loads(a.readline())"
   ]
  },
  {
   "cell_type": "code",
   "execution_count": 5,
   "metadata": {},
   "outputs": [
    {
     "data": {
      "text/plain": [
       "[(u'Consular Department', u'ORGANIZATION'),\n",
       " (u'Russian', u'NATIONALITY'),\n",
       " (u'Azerbaijan', u'LOCATION'),\n",
       " (u'Azeri', u'NATIONALITY'),\n",
       " (u'Russia', u'LOCATION'),\n",
       " (u'Russian', u'NATIONALITY'),\n",
       " (u'Russian', u'NATIONALITY'),\n",
       " (u'Azeri', u'NATIONALITY')]"
      ]
     },
     "execution_count": 5,
     "metadata": {},
     "output_type": "execute_result"
    }
   ],
   "source": [
    "[(l['expr'], l['neType']) for l in j[\"BasisEnrichment\"][\"entities\"] if \n",
    " l['neType'] in (\"LOCATION\", \"NATIONALITY\", \"ORGANIZATION\")]"
   ]
  },
  {
   "cell_type": "code",
   "execution_count": 6,
   "metadata": {},
   "outputs": [],
   "source": [
    "g = geo.geocode(j)"
   ]
  },
  {
   "cell_type": "code",
   "execution_count": 7,
   "metadata": {},
   "outputs": [
    {
     "data": {
      "text/plain": [
       "u'Consular Department of Russian embassy in Azerbaijan refuted repots that from January 1, 2002 Azeri citizens need an international passport to enter Russia.\\nA source from the Russian embassy told TURAN that they received no official instructions to change rules of Russian border crossing by Azeri citizens.'"
      ]
     },
     "execution_count": 7,
     "metadata": {},
     "output_type": "execute_result"
    }
   ],
   "source": [
    "j[\"RawText\"]"
   ]
  },
  {
   "cell_type": "code",
   "execution_count": 10,
   "metadata": {},
   "outputs": [
    {
     "name": "stdout",
     "output_type": "stream",
     "text": [
      "//Azerbaijan\n",
      "azerbaijan 0.85\n",
      "//Russia\n",
      "russia 0.85\n"
     ]
    }
   ],
   "source": [
    "for l in g[0]:\n",
    "    printloc(g[0][l]['geo_point'])\n",
    "    print l, g[0][l]['score']"
   ]
  },
  {
   "cell_type": "code",
   "execution_count": 9,
   "metadata": {},
   "outputs": [],
   "source": [
    "def printloc(ll):\n",
    "    print \"/\".join([ll['city'], ll['admin1'], ll['country']])"
   ]
  },
  {
   "cell_type": "code",
   "execution_count": 16,
   "metadata": {},
   "outputs": [
    {
     "data": {
      "text/plain": [
       "(u'baku', u'Baki', u'Azerbaijan')"
      ]
     },
     "execution_count": 16,
     "metadata": {},
     "output_type": "execute_result"
    }
   ],
   "source": [
    "g[1]['city'], g[1]['admin1'], g[1]['country']"
   ]
  },
  {
   "cell_type": "code",
   "execution_count": 40,
   "metadata": {},
   "outputs": [
    {
     "name": "stdout",
     "output_type": "stream",
     "text": [
      "Ukraine// 45415596\n"
     ]
    }
   ],
   "source": [
    "for l in geo.gazetteer.query(\"ukraine\"):\n",
    "    print l, l.population"
   ]
  },
  {
   "cell_type": "code",
   "execution_count": 41,
   "metadata": {},
   "outputs": [
    {
     "data": {
      "text/plain": [
       "{'geo_point': {'_score': 0.35294117647058826,\n",
       "  'admin1': u'',\n",
       "  'admin2': '',\n",
       "  'admin3': u'',\n",
       "  'admin4': u'',\n",
       "  'alternatenames': [u'avrupa',\n",
       "   u'chau au',\n",
       "   u'ch\\xe2u \\xe2u',\n",
       "   u'eiropa',\n",
       "   u'el viejo continente',\n",
       "   u'eropa',\n",
       "   u'eurohpa',\n",
       "   u'eurohp\\xe1',\n",
       "   u'euroopa',\n",
       "   u'eurooppa',\n",
       "   u'europa',\n",
       "   u'europe',\n",
       "   u'europo',\n",
       "   u'eur\\xf3pa',\n",
       "   u'evropa',\n",
       "   u'evr\\xf3pa',\n",
       "   u'ewrop',\n",
       "   u'e\\u016dropo',\n",
       "   u'an eoraip',\n",
       "   u'awrwba',\n",
       "   u'ou zhou',\n",
       "   u'yoroppa',\n",
       "   u'yuleob',\n",
       "   u'yurop',\n",
       "   u'yuropa',\n",
       "   u'\\u03b5\\u03c5\\u03c1\\u03ce\\u03c0\\u03b7',\n",
       "   u'\\u0454\\u0432\\u0440\\u043e\\u043f\\u0430',\n",
       "   u'\\u0435\\u0432\\u0440\\u043e\\u043f\\u0430',\n",
       "   u'\\u0435\\u045e\\u0440\\u043e\\u043f\\u0430',\n",
       "   u'\\u05d0\\u05d9\\u05e8\\u05d5\\u05e4\\u05d4',\n",
       "   u'\\u0623\\u0648\\u0631\\u0648\\u0628\\u0627',\n",
       "   u'\\u092f\\u0942\\u0930\\u094b\\u092a',\n",
       "   u'\\u0e22\\u0e38\\u0e42\\u0e23\\u0e1b',\n",
       "   u'\\u30e8\\u30fc\\u30ed\\u30c3\\u30d1',\n",
       "   u'\\u6b27\\u6d32',\n",
       "   u'\\uc720\\ub7fd'],\n",
       "  'asciiname': u'europe',\n",
       "  'cc2': u'',\n",
       "  'city': '',\n",
       "  'confidence': 0.35294117647058826,\n",
       "  'coordinates': [9.14062, 48.69096],\n",
       "  'country': '',\n",
       "  'countryCode': u'',\n",
       "  'dem': u'443',\n",
       "  'elevation': -1,\n",
       "  'featureClass': u'l',\n",
       "  'featureCode': u'cont',\n",
       "  'geonameid': u'6255148',\n",
       "  'id': u'6255148',\n",
       "  'ltype': 'area',\n",
       "  'modificationDate': u'2016-06-01',\n",
       "  'name': u'europe',\n",
       "  'population': 0,\n",
       "  'timezone': u'europe/vaduz'},\n",
       " 'score': 0.054651401247945076}"
      ]
     },
     "execution_count": 41,
     "metadata": {},
     "output_type": "execute_result"
    }
   ],
   "source": [
    "g[0]['council of europe']"
   ]
  },
  {
   "cell_type": "code",
   "execution_count": 52,
   "metadata": {},
   "outputs": [
    {
     "name": "stdout",
     "output_type": "stream",
     "text": [
      "{'query': {'bool': {'filter': {'bool': {'should': [{'range': {'population': {'gte': 5000}}}, {'terms': {'featureCode': ['ppla', 'pplx']}}]}}, 'should': [{'bool': {'filter': {'bool': {'should': [{'range': {'population': {'gte': 5000}}}, {'terms': {'featureCode': ['pcla', 'pcli', 'cont', 'rgn', 'admd']}}]}}, 'must': {'multi_match': {'query': 'nagorno karabakh', 'fields': ['name', 'asciiname', 'alternatenames']}}}}, {'term': {'name.raw': {'boost': 2.0, 'value': 'nagorno karabakh'}}}, {'term': {'asciiname': {'boost': 2.0, 'value': 'nagorno karabakh'}}}, {'term': {'alternatenames': {'boost': 2.0, 'value': 'nagorno karabakh'}}}], 'minimum_number_should_match': 1}}}\n"
     ]
    },
    {
     "ename": "IndexError",
     "evalue": "list index out of range",
     "output_type": "error",
     "traceback": [
      "\u001b[0;31m---------------------------------------------------------------------------\u001b[0m",
      "\u001b[0;31mIndexError\u001b[0m                                Traceback (most recent call last)",
      "\u001b[0;32m<ipython-input-52-6cf2e1e4a9d3>\u001b[0m in \u001b[0;36m<module>\u001b[0;34m()\u001b[0m\n\u001b[0;32m----> 1\u001b[0;31m \u001b[0mgeo\u001b[0m\u001b[0;34m.\u001b[0m\u001b[0mgazetteer\u001b[0m\u001b[0;34m.\u001b[0m\u001b[0mdb\u001b[0m\u001b[0;34m.\u001b[0m\u001b[0mquery\u001b[0m\u001b[0;34m(\u001b[0m\u001b[0;34m\"nagorno karabakh\"\u001b[0m\u001b[0;34m,\u001b[0m \u001b[0mmin_popln\u001b[0m\u001b[0;34m=\u001b[0m\u001b[0;36m5000\u001b[0m\u001b[0;34m,\u001b[0m \u001b[0mqtype\u001b[0m\u001b[0;34m=\u001b[0m\u001b[0;34m\"combined\"\u001b[0m\u001b[0;34m,\u001b[0m \u001b[0mquery_name\u001b[0m\u001b[0;34m=\u001b[0m\u001b[0;34m\"should\"\u001b[0m\u001b[0;34m)\u001b[0m\u001b[0;34m[\u001b[0m\u001b[0;36m0\u001b[0m\u001b[0;34m]\u001b[0m\u001b[0;34m.\u001b[0m\u001b[0m__dict__\u001b[0m\u001b[0;34m\u001b[0m\u001b[0m\n\u001b[0m",
      "\u001b[0;31mIndexError\u001b[0m: list index out of range"
     ]
    }
   ],
   "source": [
    "geo.gazetteer.db.query(\"nagorno karabakh\", min_popln=5000, qtype=\"combined\", query_name=\"should\")[0].__dict__"
   ]
  },
  {
   "cell_type": "code",
   "execution_count": 39,
   "metadata": {},
   "outputs": [],
   "source": [
    "q = {'query': {'bool': {'filter': {'bool': {'should': [{'range': {'population': {'gte': 5000}}}, {'terms': {'featureCode': ['ppla', 'pplx']}}]}}, 'should': [{'bool': {'filter': {'bool': {'should': [{'range': {'population': {'gte': 5000}}}, {'terms': {'featureCode': ['pcla', 'pcli', 'cont', 'rgn', 'admd']}}]}}, 'must': {'multi_match': {'query': 'leader', 'fields': ['name', 'asciiname', 'alternatenames']}}}}, {'term': {'name.raw': {'boost': 2.0, 'value': 'leader'}}}, {'term': {'asciiname': {'boost': 2.0, 'value': 'leader'}}}, {'term': {'alternatenames': {'boost': 2.0, 'value': 'leader'}}}], 'minimum_number_should_match': 1}}}"
   ]
  },
  {
   "cell_type": "code",
   "execution_count": 40,
   "metadata": {},
   "outputs": [
    {
     "data": {
      "text/plain": [
       "{'query': {'bool': {'filter': {'bool': {'should': [{'range': {'population': {'gte': 5000}}},\n",
       "      {'terms': {'featureCode': ['ppla', 'pplx']}}]}},\n",
       "   'minimum_number_should_match': 1,\n",
       "   'should': [{'bool': {'filter': {'bool': {'should': [{'range': {'population': {'gte': 5000}}},\n",
       "         {'terms': {'featureCode': ['pcla',\n",
       "            'pcli',\n",
       "            'cont',\n",
       "            'rgn',\n",
       "            'admd']}}]}},\n",
       "      'must': {'multi_match': {'fields': ['name',\n",
       "         'asciiname',\n",
       "         'alternatenames'],\n",
       "        'query': 'leader'}}}},\n",
       "    {'term': {'name.raw': {'boost': 2.0, 'value': 'leader'}}},\n",
       "    {'term': {'asciiname': {'boost': 2.0, 'value': 'leader'}}},\n",
       "    {'term': {'alternatenames': {'boost': 2.0, 'value': 'leader'}}}]}}}"
      ]
     },
     "execution_count": 40,
     "metadata": {},
     "output_type": "execute_result"
    }
   ],
   "source": [
    "q"
   ]
  },
  {
   "cell_type": "code",
   "execution_count": 65,
   "metadata": {},
   "outputs": [],
   "source": [
    "q = {'query': {'bool': {'filter': {'bool': {'should': [{'range': {'population': {'gte': 5000}}},\n",
    "      {'terms': {'featureCode': ['ppla', 'pplx']}}]}},\n",
    "   'minimum_number_should_match': 1,\n",
    "   'should': [{'bool': {'filter': {'bool': {'should': [{'range': {'population': {'gte': 0}}},\n",
    "         {'terms': {'featureCode': ['pcla',\n",
    "            'pcli',\n",
    "            'cont',\n",
    "            'rgn',\n",
    "            'admd']}}]}},\n",
    "      'must': {'multi_match': {'fields': ['name',\n",
    "         'asciiname',\n",
    "         'alternatenames'],\n",
    "        'query': cc}}}},\n",
    "    {'term': {'name.raw': {'boost': 2.0, 'value': cc}}},\n",
    "    {'term': {'asciiname': {'boost': 2.0, 'value': cc}}},\n",
    "    {'term': {'alternatenames': {'boost': 2.0, 'value': cc}}}]}}}"
   ]
  },
  {
   "cell_type": "code",
   "execution_count": 54,
   "metadata": {},
   "outputs": [],
   "source": [
    "cc = \"nagorno-karabakh\"\n",
    "q2 = {'query': {'bool': {'filter': {'bool': {'should': [{'range': {'population': {'gte': 5000}}},\n",
    "      {'terms': {'featureCode': ['ppla']}}]}},\n",
    "   'minimum_number_should_match': 1,\n",
    "   'should': [{'bool': {'filter': {'bool': {'should': [{'range': {'population': {'gte': 5000}}},\n",
    "         {'terms': {'featureCode': ['pcla',\n",
    "            'pcli',\n",
    "            'cont',\n",
    "            'rgn',\n",
    "            'admd']}}]}},\n",
    "      'must': {'multi_match': {'fields': ['name',\n",
    "         'asciiname',\n",
    "         'alternatenames'],\n",
    "        'query': cc}}}},\n",
    "    {'term': {'name.raw': {'boost': 2.0, 'value': cc}}},\n",
    "    {'term': {'asciiname': {'boost': 2.0, 'value': cc}}},\n",
    "    {'term': {'alternatenames': {'boost': 2.0, 'value': cc}}}]}}}"
   ]
  },
  {
   "cell_type": "code",
   "execution_count": 66,
   "metadata": {},
   "outputs": [
    {
     "data": {
      "text/plain": [
       "{u'_shards': {u'failed': 0, u'successful': 5, u'total': 5},\n",
       " u'hits': {u'hits': [], u'max_score': None, u'total': 0},\n",
       " u'timed_out': False,\n",
       " u'took': 4}"
      ]
     },
     "execution_count": 66,
     "metadata": {},
     "output_type": "execute_result"
    }
   ],
   "source": [
    "db.eserver.search(q, index=\"geonames\", doc_type=\"places\")"
   ]
  },
  {
   "cell_type": "code",
   "execution_count": 58,
   "metadata": {},
   "outputs": [
    {
     "data": {
      "text/plain": [
       "{'_score': 0.9815777265638193,\n",
       " 'admin1': '',\n",
       " 'admin2': '',\n",
       " 'admin3': u'',\n",
       " 'admin4': u'',\n",
       " 'alternatenames': [u'alto karabaj',\n",
       "  u\"arts'akh\",\n",
       "  u'dagliq qarabag muxtar vilayati',\n",
       "  u'da\\u011fl\\u0131q qaraba\\u011f muxtar vilay\\u01ddti',\n",
       "  u'lerrnayin garabagh',\n",
       "  u\"lerrnayin gharabaghi hanrapetut'yun\",\n",
       "  u\"lerrnayin gharabaghi ink'navar marz\",\n",
       "  u'mountainous karabakh',\n",
       "  u'nagorno karabaj',\n",
       "  u'nagorno-karabakh',\n",
       "  u\"nagorno-karabakhskaya avtonomnaya oblast'\",\n",
       "  u'nagorno-karabakhskaya respublika',\n",
       "  u'nagorny karabakh autonomous region',\n",
       "  u'nagornyy karabakh',\n",
       "  u'qarabag vilayati',\n",
       "  u'qaraba\\u011f vilay\\u01ddti',\n",
       "  u'republic of mountainous gharabagh',\n",
       "  u'yuxariqarabag',\n",
       "  u'yuxar\\u0131qaraba\\u011f',\n",
       "  u'\\u043d\\u0430\\u0433\\u043e\\u0440\\u043d\\u043e-\\u043a\\u0430\\u0440\\u0430\\u0431\\u0430\\u0445'],\n",
       " 'asciiname': u'nagorno-karabakh [provisional]',\n",
       " 'cc2': u'az',\n",
       " 'city': u'nagorno-karabakh [provisional]',\n",
       " 'confidence': 0.9815777265638193,\n",
       " 'coordinates': [46.58333, 40.0],\n",
       " 'country': u'Azerbaijan',\n",
       " 'countryCode': u'az',\n",
       " 'dem': u'1318',\n",
       " 'elevation': -1,\n",
       " 'featureClass': u'a',\n",
       " 'featureCode': u'admd',\n",
       " 'geonameid': u'409432',\n",
       " 'id': u'409432',\n",
       " 'ltype': 'city',\n",
       " 'modificationDate': u'2008-11-23',\n",
       " 'name': u'nagorno-karabakh [provisional]',\n",
       " 'population': 0,\n",
       " 'timezone': u'asia/baku'}"
      ]
     },
     "execution_count": 58,
     "metadata": {},
     "output_type": "execute_result"
    }
   ],
   "source": [
    "geo.gazetteer.query(\"nagorno karabakh\")[0].__dict__"
   ]
  },
  {
   "cell_type": "code",
   "execution_count": 11,
   "metadata": {},
   "outputs": [],
   "source": [
    "test_data = []\n",
    "cnt = 0\n",
    "for ln in a:\n",
    "    test_data.append(json.loads(ln))\n",
    "    cnt += 1\n",
    "    if cnt > 5000:\n",
    "        break"
   ]
  },
  {
   "cell_type": "code",
   "execution_count": 13,
   "metadata": {},
   "outputs": [],
   "source": [
    "def gcode(data):\n",
    "    for d in data:\n",
    "        geo.annotate(d)"
   ]
  },
  {
   "cell_type": "code",
   "execution_count": 15,
   "metadata": {},
   "outputs": [
    {
     "name": "stderr",
     "output_type": "stream",
     "text": [
      "No handlers could be found for logger \"elasticsearch.trace\"\n"
     ]
    },
    {
     "name": "stdout",
     "output_type": "stream",
     "text": [
      "CPU times: user 724 ms, sys: 48 ms, total: 772 ms\n",
      "Wall time: 2.38 s\n"
     ]
    }
   ],
   "source": [
    "%time gcode(test_data[:100])"
   ]
  },
  {
   "cell_type": "code",
   "execution_count": 1,
   "metadata": {},
   "outputs": [
    {
     "name": "stderr",
     "output_type": "stream",
     "text": [
      "/home/sathappan/.local/lib/python2.7/site-packages/pandas/core/computation/__init__.py:18: UserWarning: The installed version of numexpr 2.4.3 is not supported in pandas and will be not be used\n",
      "The minimum supported version is 2.4.6\n",
      "\n",
      "  ver=ver, min_ver=_MIN_NUMEXPR_VERSION), UserWarning)\n"
     ]
    }
   ],
   "source": [
    "from geoutils.dbManager import ESWrapper\n",
    "from geocode import BaseGeo\n",
    "import pickle\n",
    "db = ESWrapper(\"geonames\", \"places\")\n",
    "\n",
    "geo = BaseGeo(db)\n",
    "loc = pickle.load(open(\"/home/sathappan/locations.txt\"))\n",
    "unc = set.union(*[set(ll) for ll in loc])"
   ]
  },
  {
   "cell_type": "code",
   "execution_count": 66,
   "metadata": {},
   "outputs": [],
   "source": [
    "from geoutils.loc_config import stop_words, remove_stopwords, reduce_stopwords"
   ]
  },
  {
   "cell_type": "code",
   "execution_count": 67,
   "metadata": {},
   "outputs": [
    {
     "name": "stdout",
     "output_type": "stream",
     "text": [
      "('United States/North Carolina/concord', u'ppla2', 87696, 1.0, 0.0, u'4461574')\n",
      "('Australia/South Australia/', u'adm1', 1596572, 0.5143888193544279, 0.0, u'2061327')\n",
      "('Tanzania/Arusha/usa river', u'ppl', 18726, 1.0, 0.0, u'149155')\n",
      "('Argentina/Salta/', u'adm1', 1079051, 0.5065763587990191, 0.0, u'3838231')\n",
      "('Italy/Campania/provincia di salerno', u'adm2', 1092876, 0.5374130907843306, 0.0, u'3168670')\n",
      "('Guam//', u'hsts', 250000, 0.2045785295162078, 0.0, u'7874625')\n",
      "('United States//', u'pcli', 310232863, 0.9624046984430304, 0.95, u'6252001')\n",
      "('Japan/Oita/usa shi', u'adm2', 59485, 0.3804698701346583, 0.0, u'1849160')\n"
     ]
    }
   ],
   "source": [
    "for l in geo.gazetteer.query(u'usa', min_popln=5000):\n",
    "    print((l.__str__()).encode(\"utf-8\"),  l.featureCode, l.population, l._score, round(l.confidence, 2), l.geonameid)"
   ]
  },
  {
   "cell_type": "code",
   "execution_count": 2,
   "metadata": {},
   "outputs": [],
   "source": [
    "from collections import Counter\n",
    "cc = Counter()\n",
    "for l in loc:\n",
    "    cc.update(l)"
   ]
  },
  {
   "cell_type": "code",
   "execution_count": 3,
   "metadata": {},
   "outputs": [],
   "source": [
    "def test():\n",
    "    cnt = 0\n",
    "    noloc = []\n",
    "    for l in unc:\n",
    "        try:\n",
    "            res = geo.gazetteer.query(l)#, fuzzy=1, max_expansion=5, prefix_length=3)#, fuzzy=1, max_expansion=2, prefix_length=0)\n",
    "            if res != []:\n",
    "                cnt += 1\n",
    "            else:\n",
    "                res = geo.gazetteer.query(l, reduce=True)\n",
    "                #print(res)\n",
    "                #res = geo.gazetteer.query(l, fuzzy=1, max_expansion=10, prefix_length=3)\n",
    "                if res != []:\n",
    "                    cnt += 1\n",
    "                else:\n",
    "                    noloc.append(l)\n",
    "        except:\n",
    "            noloc.append(l)\n",
    "            pass\n",
    "    return cnt, noloc\n",
    "\n"
   ]
  },
  {
   "cell_type": "code",
   "execution_count": 4,
   "metadata": {},
   "outputs": [
    {
     "name": "stderr",
     "output_type": "stream",
     "text": [
      "No handlers could be found for logger \"elasticsearch.trace\"\n"
     ]
    },
    {
     "name": "stdout",
     "output_type": "stream",
     "text": [
      "CPU times: user 9.65 s, sys: 372 ms, total: 10 s\n",
      "Wall time: 24.9 s\n"
     ]
    }
   ],
   "source": [
    "%time cnt, noloc = test()"
   ]
  },
  {
   "cell_type": "code",
   "execution_count": 5,
   "metadata": {},
   "outputs": [
    {
     "data": {
      "text/plain": [
       "1215"
      ]
     },
     "execution_count": 5,
     "metadata": {},
     "output_type": "execute_result"
    }
   ],
   "source": [
    "cnt"
   ]
  },
  {
   "cell_type": "code",
   "execution_count": 7,
   "metadata": {},
   "outputs": [
    {
     "data": {
      "text/plain": [
       "({u'\\u0623\\u0648\\u0631\\u0648\\u0628\\u0627': {'geo_point': {'_score': 1.0,\n",
       "    'admin1': u'',\n",
       "    'admin2': '',\n",
       "    'admin3': u'',\n",
       "    'admin4': u'',\n",
       "    'alternatenames': [u'avrupa',\n",
       "     u'chau au',\n",
       "     u'ch\\xe2u \\xe2u',\n",
       "     u'eiropa',\n",
       "     u'el viejo continente',\n",
       "     u'eropa',\n",
       "     u'eurohpa',\n",
       "     u'eurohp\\xe1',\n",
       "     u'euroopa',\n",
       "     u'eurooppa',\n",
       "     u'europa',\n",
       "     u'europe',\n",
       "     u'europo',\n",
       "     u'eur\\xf3pa',\n",
       "     u'evropa',\n",
       "     u'evr\\xf3pa',\n",
       "     u'ewrop',\n",
       "     u'e\\u016dropo',\n",
       "     u'an eoraip',\n",
       "     u'awrwba',\n",
       "     u'ou zhou',\n",
       "     u'yoroppa',\n",
       "     u'yuleob',\n",
       "     u'yurop',\n",
       "     u'yuropa',\n",
       "     u'\\u03b5\\u03c5\\u03c1\\u03ce\\u03c0\\u03b7',\n",
       "     u'\\u0454\\u0432\\u0440\\u043e\\u043f\\u0430',\n",
       "     u'\\u0435\\u0432\\u0440\\u043e\\u043f\\u0430',\n",
       "     u'\\u0435\\u045e\\u0440\\u043e\\u043f\\u0430',\n",
       "     u'\\u05d0\\u05d9\\u05e8\\u05d5\\u05e4\\u05d4',\n",
       "     u'\\u0623\\u0648\\u0631\\u0648\\u0628\\u0627',\n",
       "     u'\\u092f\\u0942\\u0930\\u094b\\u092a',\n",
       "     u'\\u0e22\\u0e38\\u0e42\\u0e23\\u0e1b',\n",
       "     u'\\u30e8\\u30fc\\u30ed\\u30c3\\u30d1',\n",
       "     u'\\u6b27\\u6d32',\n",
       "     u'\\uc720\\ub7fd'],\n",
       "    'asciiname': u'europe',\n",
       "    'cc2': u'',\n",
       "    'city': '',\n",
       "    'confidence': 1.0,\n",
       "    'coordinates': [9.14062, 48.69096],\n",
       "    'country': '',\n",
       "    'countryCode': u'',\n",
       "    'dem': u'443',\n",
       "    'elevation': -1,\n",
       "    'featureClass': u'l',\n",
       "    'featureCode': u'cont',\n",
       "    'geonameid': u'6255148',\n",
       "    'id': u'6255148',\n",
       "    'ltype': 'area',\n",
       "    'modificationDate': u'2016-06-01',\n",
       "    'name': u'europe',\n",
       "    'population': 0,\n",
       "    'timezone': u'europe/vaduz'},\n",
       "   'score': 0.16846153846153847},\n",
       "  u'\\u0625\\u0633\\u0628\\u0627\\u0646\\u064a\\u0627': {'geo_point': {'_score': 0.4375,\n",
       "    'admin1': '',\n",
       "    'admin2': '',\n",
       "    'admin3': u'',\n",
       "    'admin4': u'',\n",
       "    'alternatenames': [u'an spainn',\n",
       "     u'an sp\\xe0inn',\n",
       "     u'an sp\\xe1inn',\n",
       "     u'caxtillan',\n",
       "     u'esipanye',\n",
       "     u'esipa\\u0272i',\n",
       "     u'espaan',\n",
       "     u'espaa\\xf1',\n",
       "     u'espagne',\n",
       "     u'espaina',\n",
       "     u'espainia',\n",
       "     u'espana',\n",
       "     u'espangne',\n",
       "     u'espanha',\n",
       "     u'espania',\n",
       "     u'espanja',\n",
       "     u'espanjja',\n",
       "     u'espanya',\n",
       "     u'espanye',\n",
       "     u'espay',\n",
       "     u'espa\\xf1a',\n",
       "     u'esp\\xe1njja',\n",
       "     u'esp\\xe2nye',\n",
       "     u'estado espanol',\n",
       "     u'estado espa\\xf1ol',\n",
       "     u'gispania',\n",
       "     u'hesperia',\n",
       "     u'hisipaniya',\n",
       "     u'hispaania',\n",
       "     u'hispania',\n",
       "     u'hispanio',\n",
       "     u'hispanujo',\n",
       "     u'hiszpania',\n",
       "     u'isbeyn',\n",
       "     u'ispagna',\n",
       "     u'ispana',\n",
       "     u'ispani',\n",
       "     u'ispania',\n",
       "     u'ispanija',\n",
       "     u'ispaniya',\n",
       "     u'ispanya',\n",
       "     u'ispa\\xf1a',\n",
       "     u'isponijo',\n",
       "     u'ispuanii',\n",
       "     u'kingdom of spain',\n",
       "     u'la pell de brau',\n",
       "     u'la piel de toro',\n",
       "     u'nsipani',\n",
       "     u'orileede sipani',\n",
       "     u'or\\xedl\\u1eb9\\u0301\\xe8de sipani',\n",
       "     u'pain',\n",
       "     u'paniora',\n",
       "     u'p\\u0101niora',\n",
       "     u\"regne d'espanya\",\n",
       "     u'reino de espana',\n",
       "     u'reino de espa\\xf1a',\n",
       "     u'sbaen',\n",
       "     u'sepania',\n",
       "     u'sepanyol',\n",
       "     u'sepeni',\n",
       "     u'shpanija',\n",
       "     u'sipeini',\n",
       "     u'sipen',\n",
       "     u'sipeyini',\n",
       "     u'spagn',\n",
       "     u'spagna',\n",
       "     u'spagne',\n",
       "     u'spain',\n",
       "     u'spanelsko',\n",
       "     u'spania',\n",
       "     u'spania nutome',\n",
       "     u'spanielsko',\n",
       "     u'spanien',\n",
       "     u'spanija',\n",
       "     u'spanish state',\n",
       "     u'spaniska',\n",
       "     u'spanja',\n",
       "     u'spanje',\n",
       "     u'spanjolska',\n",
       "     u'spanj\\xeb',\n",
       "     u'spann',\n",
       "     u'spanya',\n",
       "     u'spanyaen',\n",
       "     u'spanyol',\n",
       "     u'spanyolorszag',\n",
       "     u'spanyolorsz\\xe1g',\n",
       "     u'spany\\xe4n',\n",
       "     u'spayn',\n",
       "     u'spen',\n",
       "     u'spena',\n",
       "     u'speonland',\n",
       "     u'spuenien',\n",
       "     u'sp\\xe1nia',\n",
       "     u'sp\\xe1nn',\n",
       "     u'sp\\xe9onland',\n",
       "     u'sp\\u0101nija',\n",
       "     u'sp\\u0113na',\n",
       "     u'sp\\u0113onland',\n",
       "     u'szpansko',\n",
       "     u'szpa\\u0144sk\\xf4',\n",
       "     u'tay ban nha',\n",
       "     u't\\xe2y ban nha',\n",
       "     u'uhispania',\n",
       "     u'yn spaainey',\n",
       "     u'asbanya',\n",
       "     u'aspanya',\n",
       "     u'aspyn',\n",
       "     u'eseupanya',\n",
       "     u'hspanyh',\n",
       "     u'i-spain',\n",
       "     u'la madre patria',\n",
       "     u'prathes spen',\n",
       "     u'sangue',\n",
       "     u'seupein',\n",
       "     u'spain',\n",
       "     u\"spe'ina\",\n",
       "     u'spen',\n",
       "     u'spena',\n",
       "     u'speyin',\n",
       "     u'sprd',\n",
       "     u'spyn',\n",
       "     u'supein',\n",
       "     u'xi ban ya',\n",
       "     u'yyspanya',\n",
       "     u'\\xe8spagne',\n",
       "     u'ispaniya',\n",
       "     u'ispanya',\n",
       "     u'\\u0161panielsko',\n",
       "     u'\\u0161panija',\n",
       "     u'\\u0161paniska',\n",
       "     u'\\u0161panjolska',\n",
       "     u'\\u0161pan\\u011blsko',\n",
       "     u'\\u03b9\\u03c3\\u03c0\\u03b1\\u03bd\\u03af\\u03b1',\n",
       "     u'\\u0456\\u0441\\u043f\\u0430\\u043d\\u0456\\u044f',\n",
       "     u'\\u0433\\u0456\\u0448\\u043f\\u0430\\u043d\\u0456\\u044f',\n",
       "     u'\\u0438\\u0441\\u043f\\u0430\\u043d\\u0438',\n",
       "     u'\\u0438\\u0441\\u043f\\u0430\\u043d\\u0438\\u044f',\n",
       "     u'\\u0438\\u0441\\u043f\\u043e\\u043d\\u0438\\u0451',\n",
       "     u'\\u0448\\u043f\\u0430\\u043d\\u0438\\u0458\\u0430',\n",
       "     u'\\u056b\\u057d\\u057a\\u0561\\u0576\\u056b\\u0561',\n",
       "     u'\\u05e1\\u05e4\\u05e8\\u05d3',\n",
       "     u'\\u05e9\\u05e4\\u05d0\\u05e0\\u05d9\\u05e2',\n",
       "     u'\\u0623\\u0633\\u0628\\u0627\\u0646\\u064a\\u0627',\n",
       "     u'\\u0625\\u0633\\u0628\\u0627\\u0646\\u064a\\u0627',\n",
       "     u'\\u0626\\u0649\\u0633\\u067e\\u0627\\u0646\\u0649\\u064a\\u06d5',\n",
       "     u'\\u0626\\u06cc\\u0633\\u067e\\u0627\\u0646\\u06cc\\u0627',\n",
       "     u'\\u0627\\u0633\\u0628\\u0627\\u0646\\u064a\\u0627',\n",
       "     u'\\u0627\\u0633\\u067e\\u0627\\u0646\\u06cc\\u0627',\n",
       "     u'\\u0627\\u0633\\u067e\\u06cc\\u0646',\n",
       "     u'\\u0633\\u067e\\u06cc\\u0646',\n",
       "     u'\\u0647\\u0633\\u067e\\u0627\\u0646\\u06cc\\u0647',\n",
       "     u'\\u06c1\\u0633\\u067e\\u0627\\u0646\\u06cc\\u06c1',\n",
       "     u'\\u0710\\u0723\\u0726\\u0722\\u071d\\u0710',\n",
       "     u'\\u0938\\u094d\\u092a\\u0947\\u0928',\n",
       "     u'\\u09b8\\u09cd\\u09aa\\u09c7\\u09a8',\n",
       "     u'\\u0ab8\\u0acd\\u0aaa\\u0ac7\\u0a87\\u0aa8',\n",
       "     u'\\u0ab8\\u0acd\\u0aaa\\u0ac7\\u0aa8',\n",
       "     u'\\u0b38\\u0b4d\\u0b2a\\u0b47\\u0b28\\u0b4d',\n",
       "     u'\\u0bb8\\u0bcd\\u0baa\\u0bc6\\u0baf\\u0bbf\\u0ba9\\u0bcd',\n",
       "     u'\\u0c38\\u0c4d\\u0c2a\\u0c47\\u0c28\\u0c4d',\n",
       "     u'\\u0cb8\\u0ccd\\u0caa\\u0cc8\\u0ca8\\u0ccd',\n",
       "     u'\\u0d38\\u0d4d\\u0d2a\\u0d46\\u0d2f\\u0d3f\\u0d28\\u0d4d\\u200d',\n",
       "     u'\\u0dc3\\u0dca\\u0db4\\u0dcf\\u0da4\\u0dca\\u0da4\\u0dba',\n",
       "     u'\\u0e1b\\u0e23\\u0e30\\u0e40\\u0e17\\u0e28\\u0e2a\\u0e40\\u0e1b\\u0e19',\n",
       "     u'\\u0e2a\\u0e40\\u0e1b\\u0e19',\n",
       "     u'\\u0eaa\\u0eb0\\u0ec0\\u0e9b\\u0e99',\n",
       "     u'\\u0f66\\u0f54\\u0f53\\u0f0b',\n",
       "     u'\\u0f66\\u0f72\\u0f0b\\u0f54\\u0f53\\u0f0d',\n",
       "     u'\\u0f66\\u0f72\\u0f54\\u0f71\\u0f7a\\u0f53',\n",
       "     u'\\u0f66\\u0f72\\u0f54\\u0f71\\u0f7a\\u0f53\\u0f0b',\n",
       "     u'\\u1005\\u1015\\u102d\\u1014\\u103a',\n",
       "     u'\\u10d4\\u10e1\\u10de\\u10d0\\u10dc\\u10d4\\u10d7\\u10d8',\n",
       "     u'\\u1235\\u1354\\u1295',\n",
       "     u'\\u12a5\\u1235\\u1353\\u1295\\u12eb',\n",
       "     u'\\u17a2\\u17c1\\u179f\\u17d2\\u1794\\u17c9\\u17b6\\u1789',\n",
       "     u'\\u30b9\\u30da\\u30a4\\u30f3',\n",
       "     u'\\u897f\\u73ed\\u7259',\n",
       "     u'\\uc2a4\\ud398\\uc778',\n",
       "     u'\\uc5d0\\uc2a4\\ud30c\\ub0d0'],\n",
       "    'asciiname': u'kingdom of spain',\n",
       "    'cc2': u'',\n",
       "    'city': '',\n",
       "    'confidence': 0.4375,\n",
       "    'coordinates': [-4.0, 40.0],\n",
       "    'country': u'Spain',\n",
       "    'countryCode': u'es',\n",
       "    'dem': u'511',\n",
       "    'elevation': -1,\n",
       "    'featureClass': u'a',\n",
       "    'featureCode': u'pcli',\n",
       "    'geonameid': u'2510769',\n",
       "    'id': u'2510769',\n",
       "    'ltype': 'country',\n",
       "    'modificationDate': u'2016-06-07',\n",
       "    'name': u'kingdom of spain',\n",
       "    'population': 46505963,\n",
       "    'timezone': u''},\n",
       "   'score': 0.09153846250291273},\n",
       "  u'\\u0628\\u0625\\u0631\\u064a\\u0633': {'geo_point': {'_score': 0.9227884618760248,\n",
       "    'admin1': u'\\xcele-de-France',\n",
       "    'admin2': u'Paris',\n",
       "    'admin3': u'751',\n",
       "    'admin4': u'75056',\n",
       "    'alternatenames': [u'baariis',\n",
       "     u'bahliz',\n",
       "     u'gorad paryzh',\n",
       "     u'lungsod ng paris',\n",
       "     u'lutece',\n",
       "     u'lutetia',\n",
       "     u'lutetia parisorum',\n",
       "     u'lut\\xe8ce',\n",
       "     u'par',\n",
       "     u'pa-ri',\n",
       "     u'paarys',\n",
       "     u'palika',\n",
       "     u'paname',\n",
       "     u'pantruche',\n",
       "     u'paraeis',\n",
       "     u'paras',\n",
       "     u'pari',\n",
       "     u'paries',\n",
       "     u'parigge',\n",
       "     u'pariggi',\n",
       "     u'parighji',\n",
       "     u'parigi',\n",
       "     u'pariis',\n",
       "     u'pariisi',\n",
       "     u'pariizu',\n",
       "     u'parii\\u017eu',\n",
       "     u'parij',\n",
       "     u'parijs',\n",
       "     u'paris',\n",
       "     u'parisi',\n",
       "     u'parixe',\n",
       "     u'pariz',\n",
       "     u'parize',\n",
       "     u'parizh',\n",
       "     u'parizh osh',\n",
       "     u\"parizh'\",\n",
       "     u'parizo',\n",
       "     u'parizs',\n",
       "     u'pari\\u017e',\n",
       "     u'parys',\n",
       "     u'paryz',\n",
       "     u'paryzius',\n",
       "     u'pary\\u017c',\n",
       "     u'pary\\u017eius',\n",
       "     u'par\\xe4is',\n",
       "     u'par\\xeds',\n",
       "     u'par\\xed\\u017e',\n",
       "     u'par\\xees',\n",
       "     u'par\\u0129',\n",
       "     u'par\\u012b',\n",
       "     u'par\\u012bze',\n",
       "     u'pa\\u0159\\xed\\u017e',\n",
       "     u'p\\xe1ras',\n",
       "     u'p\\xe1rizs',\n",
       "     u'ville-lumiere',\n",
       "     u'ville-lumi\\xe8re',\n",
       "     u'ba li',\n",
       "     u'barys',\n",
       "     u'pairisa',\n",
       "     u'pali',\n",
       "     u'pari',\n",
       "     u'paris',\n",
       "     u'parys',\n",
       "     u'paryzh',\n",
       "     u'perisa',\n",
       "     u'pryz',\n",
       "     u'pyaris',\n",
       "     u'pyarisa',\n",
       "     u'pyrs',\n",
       "     u'\\u03c0\\u03b1\\u03c1\\u03af\\u03c3\\u03b9',\n",
       "     u'\\u0433\\u043e\\u0440\\u0430\\u0434 \\u043f\\u0430\\u0440\\u044b\\u0436',\n",
       "     u'\\u043f\\u0430\\u0440\\u0438\\u0436',\n",
       "     u'\\u043f\\u0430\\u0440\\u0438\\u0436 \\u043e\\u0448',\n",
       "     u'\\u043f\\u0430\\u0440\\u0438\\u0436\\u044c',\n",
       "     u'\\u043f\\u0430\\u0440\\u0438\\u0437',\n",
       "     u'\\u043f\\u0430\\u0440\\u0438\\u0441',\n",
       "     u'\\u043f\\u0430\\u0440\\u0456\\u0436',\n",
       "     u'\\u0583\\u0561\\u0580\\u056b\\u0566',\n",
       "     u'\\u05e4\\u05d0\\u05e8\\u05d9\\u05d6',\n",
       "     u'\\u05e4\\u05e8\\u05d9\\u05d6',\n",
       "     u'\\u0628\\u0627\\u0631\\u064a\\u0633',\n",
       "     u'\\u067e\\u0627\\u0631\\u0649\\u0698',\n",
       "     u'\\u067e\\u0627\\u0631\\u064a\\u0633',\n",
       "     u'\\u067e\\u0627\\u0631\\u06cc\\u0633',\n",
       "     u'\\u067e\\u06cc\\u0631\\u0633',\n",
       "     u'\\u0726\\u0710\\u072a\\u071d\\u0723',\n",
       "     u'\\u092a\\u0945\\u0930\\u093f\\u0938',\n",
       "     u'\\u092a\\u0947\\u0930\\u093f\\u0938',\n",
       "     u'\\u092a\\u0948\\u0930\\u093f\\u0938',\n",
       "     u'\\u09aa\\u09cd\\u09af\\u09be\\u09b0\\u09bf\\u09b8',\n",
       "     u'\\u0a2a\\u0a48\\u0a30\\u0a3f\\u0a38',\n",
       "     u'\\u0aaa\\u0ac5\\u0ab0\\u0abf\\u0ab8',\n",
       "     u'\\u0baa\\u0bbe\\u0bb0\\u0bbf\\u0bb8\\u0bcd',\n",
       "     u'\\u0c2a\\u0c3e\\u0c30\\u0c3f\\u0c38\\u0c4d',\n",
       "     u'\\u0caa\\u0ccd\\u0caf\\u0cbe\\u0cb0\\u0cbf\\u0cb8\\u0ccd',\n",
       "     u'\\u0d2a\\u0d3e\\u0d30\\u0d3f\\u0d38\\u0d4d',\n",
       "     u'\\u0e1b\\u0e32\\u0e23\\u0e35\\u0e2a',\n",
       "     u'\\u0f55\\u0f0b\\u0f62\\u0f72\\u0f0d',\n",
       "     u'\\u1015\\u102b\\u101b\\u102e\\u1019\\u103c\\u102d\\u102f\\u1037',\n",
       "     u'\\u10de\\u10d0\\u10e0\\u10d8\\u10d6\\u10d8',\n",
       "     u'\\u1353\\u122a\\u1235',\n",
       "     u'\\u1794\\u17c9\\u17b6\\u179a\\u17b8\\u179f',\n",
       "     u'\\u30d1\\u30ea',\n",
       "     u'\\u5df4\\u9ece',\n",
       "     u'\\ud30c\\ub9ac'],\n",
       "    'asciiname': u'paris',\n",
       "    'cc2': u'',\n",
       "    'city': u'paris',\n",
       "    'confidence': 0.8968544441754268,\n",
       "    'coordinates': [2.3488, 48.85341],\n",
       "    'country': u'France',\n",
       "    'countryCode': u'fr',\n",
       "    'dem': u'42',\n",
       "    'elevation': -1,\n",
       "    'featureClass': u'p',\n",
       "    'featureCode': u'pplc',\n",
       "    'geonameid': u'2988507',\n",
       "    'id': u'2988507',\n",
       "    'ltype': 'city',\n",
       "    'modificationDate': u'2017-06-12',\n",
       "    'name': u'paris',\n",
       "    'population': 2138551,\n",
       "    'timezone': u'europe/paris'},\n",
       "   'score': 0.41766038513843623},\n",
       "  u'\\u0628\\u0627\\u0631\\u064a\\u0633': {'geo_point': {'_score': 0.9812012429601576,\n",
       "    'admin1': u'\\xcele-de-France',\n",
       "    'admin2': u'Paris',\n",
       "    'admin3': u'751',\n",
       "    'admin4': u'75056',\n",
       "    'alternatenames': [u'baariis',\n",
       "     u'bahliz',\n",
       "     u'gorad paryzh',\n",
       "     u'lungsod ng paris',\n",
       "     u'lutece',\n",
       "     u'lutetia',\n",
       "     u'lutetia parisorum',\n",
       "     u'lut\\xe8ce',\n",
       "     u'par',\n",
       "     u'pa-ri',\n",
       "     u'paarys',\n",
       "     u'palika',\n",
       "     u'paname',\n",
       "     u'pantruche',\n",
       "     u'paraeis',\n",
       "     u'paras',\n",
       "     u'pari',\n",
       "     u'paries',\n",
       "     u'parigge',\n",
       "     u'pariggi',\n",
       "     u'parighji',\n",
       "     u'parigi',\n",
       "     u'pariis',\n",
       "     u'pariisi',\n",
       "     u'pariizu',\n",
       "     u'parii\\u017eu',\n",
       "     u'parij',\n",
       "     u'parijs',\n",
       "     u'paris',\n",
       "     u'parisi',\n",
       "     u'parixe',\n",
       "     u'pariz',\n",
       "     u'parize',\n",
       "     u'parizh',\n",
       "     u'parizh osh',\n",
       "     u\"parizh'\",\n",
       "     u'parizo',\n",
       "     u'parizs',\n",
       "     u'pari\\u017e',\n",
       "     u'parys',\n",
       "     u'paryz',\n",
       "     u'paryzius',\n",
       "     u'pary\\u017c',\n",
       "     u'pary\\u017eius',\n",
       "     u'par\\xe4is',\n",
       "     u'par\\xeds',\n",
       "     u'par\\xed\\u017e',\n",
       "     u'par\\xees',\n",
       "     u'par\\u0129',\n",
       "     u'par\\u012b',\n",
       "     u'par\\u012bze',\n",
       "     u'pa\\u0159\\xed\\u017e',\n",
       "     u'p\\xe1ras',\n",
       "     u'p\\xe1rizs',\n",
       "     u'ville-lumiere',\n",
       "     u'ville-lumi\\xe8re',\n",
       "     u'ba li',\n",
       "     u'barys',\n",
       "     u'pairisa',\n",
       "     u'pali',\n",
       "     u'pari',\n",
       "     u'paris',\n",
       "     u'parys',\n",
       "     u'paryzh',\n",
       "     u'perisa',\n",
       "     u'pryz',\n",
       "     u'pyaris',\n",
       "     u'pyarisa',\n",
       "     u'pyrs',\n",
       "     u'\\u03c0\\u03b1\\u03c1\\u03af\\u03c3\\u03b9',\n",
       "     u'\\u0433\\u043e\\u0440\\u0430\\u0434 \\u043f\\u0430\\u0440\\u044b\\u0436',\n",
       "     u'\\u043f\\u0430\\u0440\\u0438\\u0436',\n",
       "     u'\\u043f\\u0430\\u0440\\u0438\\u0436 \\u043e\\u0448',\n",
       "     u'\\u043f\\u0430\\u0440\\u0438\\u0436\\u044c',\n",
       "     u'\\u043f\\u0430\\u0440\\u0438\\u0437',\n",
       "     u'\\u043f\\u0430\\u0440\\u0438\\u0441',\n",
       "     u'\\u043f\\u0430\\u0440\\u0456\\u0436',\n",
       "     u'\\u0583\\u0561\\u0580\\u056b\\u0566',\n",
       "     u'\\u05e4\\u05d0\\u05e8\\u05d9\\u05d6',\n",
       "     u'\\u05e4\\u05e8\\u05d9\\u05d6',\n",
       "     u'\\u0628\\u0627\\u0631\\u064a\\u0633',\n",
       "     u'\\u067e\\u0627\\u0631\\u0649\\u0698',\n",
       "     u'\\u067e\\u0627\\u0631\\u064a\\u0633',\n",
       "     u'\\u067e\\u0627\\u0631\\u06cc\\u0633',\n",
       "     u'\\u067e\\u06cc\\u0631\\u0633',\n",
       "     u'\\u0726\\u0710\\u072a\\u071d\\u0723',\n",
       "     u'\\u092a\\u0945\\u0930\\u093f\\u0938',\n",
       "     u'\\u092a\\u0947\\u0930\\u093f\\u0938',\n",
       "     u'\\u092a\\u0948\\u0930\\u093f\\u0938',\n",
       "     u'\\u09aa\\u09cd\\u09af\\u09be\\u09b0\\u09bf\\u09b8',\n",
       "     u'\\u0a2a\\u0a48\\u0a30\\u0a3f\\u0a38',\n",
       "     u'\\u0aaa\\u0ac5\\u0ab0\\u0abf\\u0ab8',\n",
       "     u'\\u0baa\\u0bbe\\u0bb0\\u0bbf\\u0bb8\\u0bcd',\n",
       "     u'\\u0c2a\\u0c3e\\u0c30\\u0c3f\\u0c38\\u0c4d',\n",
       "     u'\\u0caa\\u0ccd\\u0caf\\u0cbe\\u0cb0\\u0cbf\\u0cb8\\u0ccd',\n",
       "     u'\\u0d2a\\u0d3e\\u0d30\\u0d3f\\u0d38\\u0d4d',\n",
       "     u'\\u0e1b\\u0e32\\u0e23\\u0e35\\u0e2a',\n",
       "     u'\\u0f55\\u0f0b\\u0f62\\u0f72\\u0f0d',\n",
       "     u'\\u1015\\u102b\\u101b\\u102e\\u1019\\u103c\\u102d\\u102f\\u1037',\n",
       "     u'\\u10de\\u10d0\\u10e0\\u10d8\\u10d6\\u10d8',\n",
       "     u'\\u1353\\u122a\\u1235',\n",
       "     u'\\u1794\\u17c9\\u17b6\\u179a\\u17b8\\u179f',\n",
       "     u'\\u30d1\\u30ea',\n",
       "     u'\\u5df4\\u9ece',\n",
       "     u'\\ud30c\\ub9ac'],\n",
       "    'asciiname': u'paris',\n",
       "    'cc2': u'',\n",
       "    'city': u'paris',\n",
       "    'confidence': 0.9536255943103633,\n",
       "    'coordinates': [2.3488, 48.85341],\n",
       "    'country': u'France',\n",
       "    'countryCode': u'fr',\n",
       "    'dem': u'42',\n",
       "    'elevation': -1,\n",
       "    'featureClass': u'p',\n",
       "    'featureCode': u'pplc',\n",
       "    'geonameid': u'2988507',\n",
       "    'id': u'2988507',\n",
       "    'ltype': 'city',\n",
       "    'modificationDate': u'2017-06-12',\n",
       "    'name': u'paris',\n",
       "    'population': 2138551,\n",
       "    'timezone': u'europe/paris'},\n",
       "   'score': 0.44409841037664494},\n",
       "  u'\\u062a\\u0648\\u0644\\u0648\\u0632': {'geo_point': {'_score': 1.0,\n",
       "    'admin1': u'Occitanie',\n",
       "    'admin2': u'D\\xe9partement de la Haute-Garonne',\n",
       "    'admin3': u'313',\n",
       "    'admin4': u'31555',\n",
       "    'alternatenames': [u'gorad tuluza',\n",
       "     u'lapangan terbang blagnac',\n",
       "     u'tls',\n",
       "     u'tolosa',\n",
       "     u'tolosa okzitania',\n",
       "     u'tolosa de francia',\n",
       "     u'tolosa de llenguadoc',\n",
       "     u'toloxa',\n",
       "     u'toloza',\n",
       "     u'toulouse',\n",
       "     u'toulouz',\n",
       "     u'to\\u0142oxa',\n",
       "     u'tuluz',\n",
       "     u'tuluza',\n",
       "     u'tuluzae',\n",
       "     u'tuluzo',\n",
       "     u'tul\\u016bza',\n",
       "     u't\\xf3l\\xf3za',\n",
       "     u'to~uruzu',\n",
       "     u'tu lu zi',\n",
       "     u'tu lus',\n",
       "     u'tullujeu',\n",
       "     u'tulujha',\n",
       "     u'tulus',\n",
       "     u'tuluza',\n",
       "     u'twlwz',\n",
       "     u'\\u03c4\\u03bf\\u03c5\\u03bb\\u03bf\\u03cd\\u03b6',\n",
       "     u'\\u0433\\u043e\\u0440\\u0430\\u0434 \\u0442\\u0443\\u043b\\u0443\\u0437\\u0430',\n",
       "     u'\\u0442\\u0443\\u043b\\u0443\\u0437\\xe6',\n",
       "     u'\\u0442\\u0443\\u043b\\u0443\\u0437\\u0430',\n",
       "     u'\\u0442\\u0443\\u043b\\u0443\\u0437\\u043e',\n",
       "     u'\\u0569\\u0578\\u0582\\u056c\\u0578\\u0582\\u0566',\n",
       "     u'\\u05d8\\u05d5\\u05dc\\u05d5\\u05d6',\n",
       "     u'\\u062a\\u0648\\u0644\\u0648\\u0632',\n",
       "     u'\\u0924\\u0941\\u0932\\u0942\\u091c\\u093c',\n",
       "     u'\\u0924\\u0941\\u0932\\u0942\\u091d',\n",
       "     u'\\u0a1f\\u0a41\\u0a32\\u0a42\\u0a1c\\u0a3c',\n",
       "     u'\\u0ba4\\u0bc1\\u0bb2\\u0bc2\\u0bb8\\u0bcd',\n",
       "     u'\\u0d1f\\u0d42\\u0d33\\u0d42\\u0d38\\u0d4d',\n",
       "     u'\\u0e15\\u0e39\\u0e25\\u0e39\\u0e0b',\n",
       "     u'\\u0f4a\\u0f7c\\u0f60\\u0f74\\u0f0b\\u0f63\\u0f7c\\u0f60\\u0f74\\u0f0b\\u0f66\\u0f7a\\u0f0d',\n",
       "     u'\\u10e2\\u10e3\\u10da\\u10e3\\u10d6\\u10d0',\n",
       "     u'\\u1271\\u1209\\u12dd',\n",
       "     u'\\u30c8\\u30a5\\u30fc\\u30eb\\u30fc\\u30ba',\n",
       "     u'\\u5716\\u76e7\\u8332',\n",
       "     u'\\u5716\\u9b6f\\u8332',\n",
       "     u'\\ud234\\ub8e8\\uc988'],\n",
       "    'asciiname': u'toulouse',\n",
       "    'cc2': u'',\n",
       "    'city': u'toulouse',\n",
       "    'confidence': 0.5118505762477883,\n",
       "    'coordinates': [1.44367, 43.60426],\n",
       "    'country': u'France',\n",
       "    'countryCode': u'fr',\n",
       "    'dem': u'150',\n",
       "    'elevation': -1,\n",
       "    'featureClass': u'p',\n",
       "    'featureCode': u'ppla',\n",
       "    'geonameid': u'2972315',\n",
       "    'id': u'2972315',\n",
       "    'ltype': 'city',\n",
       "    'modificationDate': u'2016-02-18',\n",
       "    'name': u'toulouse',\n",
       "    'population': 433055,\n",
       "    'timezone': u'europe/paris'},\n",
       "   'score': 0.08303649873771124},\n",
       "  u'\\u0633\\u0648\\u0631\\u064a\\u0627': {'geo_point': {'_score': 1.0,\n",
       "    'admin1': '',\n",
       "    'admin2': '',\n",
       "    'admin3': u'',\n",
       "    'admin4': u'',\n",
       "    'alternatenames': [u'al iqlim as suri',\n",
       "     u'al iqlim ash shamali',\n",
       "     u'al iql\\u012bm as s\\u016br\\u012b',\n",
       "     u'al iql\\u012bm ash sham\\u0101l\\u012b',\n",
       "     u'al jumhuriyah al `arabiyah as suriyah',\n",
       "     u'al jumh\\u016br\\u012byah al \\u2018arab\\u012byah as s\\u016br\\u012byah',\n",
       "     u'al-sham',\n",
       "     u'al-suriyah',\n",
       "     u'an tsiria',\n",
       "     u'aram',\n",
       "     u'ar\\u0101m',\n",
       "     u'ash sham',\n",
       "     u'ash sh\\u0101m',\n",
       "     u'el sham',\n",
       "     u'el suriya',\n",
       "     u'es suriya',\n",
       "     u'esh sham',\n",
       "     u'la syrie',\n",
       "     u'northern region',\n",
       "     u'orileede siria',\n",
       "     u'or\\xedl\\u1eb9\\u0301\\xe8de siria',\n",
       "     u'republique arabe syrienne',\n",
       "     u'r\\xe9publique arabe syrienne',\n",
       "     u'sham  siriya',\n",
       "     u'silia',\n",
       "     u'siri',\n",
       "     u'siria',\n",
       "     u'siria - swryt',\n",
       "     u'siria - \\u0633\\u0648\\u0631\\u064a\\u0629',\n",
       "     u'siria nutome',\n",
       "     u'sirie',\n",
       "     u'sirii',\n",
       "     u'sirija',\n",
       "     u\"sirijs'ka arabs'ka respublika\",\n",
       "     u'sirijska arabska republika',\n",
       "     u'sirijskaja arabskaja respublika',\n",
       "     u'sirio',\n",
       "     u'siriya',\n",
       "     u'siri\\xeb',\n",
       "     u'sirja',\n",
       "     u'sirya',\n",
       "     u'siryjskaa arabskaa respublika',\n",
       "     u'sir\\xed',\n",
       "     u'sir\\xefi',\n",
       "     u'sueriyaen',\n",
       "     u'sueueria',\n",
       "     u'suri',\n",
       "     u'suria',\n",
       "     u'suriah',\n",
       "     u'surie',\n",
       "     u'suriya',\n",
       "     u'suriyah',\n",
       "     u'suriye',\n",
       "     u'suuriya',\n",
       "     u'syri',\n",
       "     u'syria',\n",
       "     u'syria  arabike demokratia tes',\n",
       "     u'syrian arab republic',\n",
       "     u'syrian region',\n",
       "     u'syrie',\n",
       "     u'syrien',\n",
       "     u'syriska',\n",
       "     u'syri\\xeb',\n",
       "     u'syrland',\n",
       "     u'syrska arabska republika',\n",
       "     u'syyria',\n",
       "     u'sziria',\n",
       "     u'sziriai arab koeztarsasag',\n",
       "     u'sz\\xedria',\n",
       "     u'sz\\xedriai arab k\\xf6zt\\xe1rsas\\xe1g',\n",
       "     u's\\xedria',\n",
       "     u's\\xfaria',\n",
       "     u's\\xfbr\\xee',\n",
       "     u's\\xfcriy\\xe4n',\n",
       "     u's\\xfc\\xfcria',\n",
       "     u's\\xfdria',\n",
       "     u's\\xfdrie',\n",
       "     u's\\xfdrland',\n",
       "     u's\\xfdrska arabsk\\xe1 republika',\n",
       "     u's\\u012blia',\n",
       "     u's\\u012brija',\n",
       "     u's\\u016briy\\u0101',\n",
       "     u's\\u016br\\u012byah',\n",
       "     u'xi-ri',\n",
       "     u'xi-ri (syria)',\n",
       "     u'alsham',\n",
       "     u'ciriya',\n",
       "     u'i-syria',\n",
       "     u'prathes sireiy',\n",
       "     u'shiria',\n",
       "     u'silia',\n",
       "     u'sireiy',\n",
       "     u\"siri'a\",\n",
       "     u'siria',\n",
       "     u'siriya',\n",
       "     u'swrya',\n",
       "     u'swryh',\n",
       "     u'swryt',\n",
       "     u'swry\\u06c1',\n",
       "     u'swwrya',\n",
       "     u'syrya',\n",
       "     u'xu li ya',\n",
       "     u'\\u03c3\\u03c5\\u03c1\\u03af\\u03b1',\n",
       "     u'\\u03c3\\u03c5\\u03c1\\u03af\\u03b1  \\u03b1\\u03c1\\u03b1\\u03b2\\u03b9\\u03ba\\u03ae \\u03b4\\u03b7\\u03bc\\u03bf\\u03ba\\u03c1\\u03b1\\u03c4\\u03af\\u03b1 \\u03c4\\u03b7\\u03c2',\n",
       "     u'\\u0441\\u0438\\u0440\\u0438',\n",
       "     u'\\u0441\\u0438\\u0440\\u0438\\u0439\\u0441\\u043a\\u0430 \\u0430\\u0440\\u0430\\u0431\\u0441\\u043a\\u0430 \\u0440\\u0435\\u043f\\u0443\\u0431\\u043b\\u0438\\u043a\\u0430',\n",
       "     u'\\u0441\\u0438\\u0440\\u0438\\u0439\\u0441\\u043a\\u0430\\u044f \\u0430\\u0440\\u0430\\u0431\\u0441\\u043a\\u0430\\u044f \\u0440\\u0435\\u0441\\u043f\\u0443\\u0431\\u043b\\u0438\\u043a\\u0430',\n",
       "     u'\\u0441\\u0438\\u0440\\u0438\\u044f',\n",
       "     u'\\u0441\\u0438\\u0440\\u0438\\u0458\\u0430',\n",
       "     u'\\u0441\\u0438\\u0440\\u0456\\u0439\\u0441\\u044c\\u043a\\u0430 \\u0430\\u0440\\u0430\\u0431\\u0441\\u044c\\u043a\\u0430 \\u0440\\u0435\\u0441\\u043f\\u0443\\u0431\\u043b\\u0456\\u043a\\u0430',\n",
       "     u'\\u0441\\u0438\\u0440\\u0456\\u044f',\n",
       "     u'\\u0441\\u0456\\u0440\\u044b\\u0439\\u0441\\u043a\\u0430\\u044f \\u0430\\u0440\\u0430\\u0431\\u0441\\u043a\\u0430\\u044f \\u0440\\u044d\\u0441\\u043f\\u0443\\u0431\\u043b\\u0456\\u043a\\u0430',\n",
       "     u'\\u0441\\u0477\\u0440\\u0457\\ua657',\n",
       "     u'\\u057d\\u056b\\u0580\\u056b\\u0561',\n",
       "     u'\\u05e1\\u05d5\\u05e8\\u05d9\\u05d4',\n",
       "     u'\\u05e1\\u05d9\\u05e8\\u05d9\\u05e2',\n",
       "     u'\\u0627\\u0644\\u062c\\u0645\\u0647\\u0648\\u0631\\u064a\\u0629 \\u0627\\u0644\\u0639\\u0631\\u0628\\u064a\\u0629 \\u0627\\u0644\\u0633\\u0648\\u0631\\u064a\\u0629',\n",
       "     u'\\u0627\\u0644\\u0634\\u0627\\u0645',\n",
       "     u'\\u0633\\u0648\\u0631\\u064a\\u0627',\n",
       "     u'\\u0633\\u0648\\u0631\\u064a\\u0629',\n",
       "     u'\\u0633\\u0648\\u0631\\u064a\\u0647',\n",
       "     u'\\u0633\\u0648\\u0631\\u06cc\\u0647',\n",
       "     u'\\u0633\\u0648\\u0631\\u06cc\\u06c1',\n",
       "     u'\\u0633\\u0648\\u0648\\u0631\\u06cc\\u0627',\n",
       "     u'\\u0633\\u06cc\\u0631\\u06cc\\u0627',\n",
       "     u'\\u0723\\u0718\\u072a\\u071d\\u0710',\n",
       "     u'\\u0938\\u093f\\u0930\\u093f\\u092f\\u093e',\n",
       "     u'\\u0938\\u0940\\u0930\\u093f\\u092f\\u093e',\n",
       "     u'\\u09b8\\u09bf\\u09b0\\u09bf\\u09af\\u09bc\\u09be',\n",
       "     u'\\u09b8\\u09bf\\u09b0\\u09bf\\u09df\\u09be',\n",
       "     u'\\u0ab8\\u0ac0\\u0ab0\\u0abf\\u0aaf\\u0abe',\n",
       "     u'\\u0b38\\u0b3f\\u0b30\\u0b3f\\u0b06',\n",
       "     u'\\u0b9a\\u0bbf\\u0bb0\\u0bbf\\u0baf\\u0bbe',\n",
       "     u'\\u0c38\\u0c3f\\u0c30\\u0c3f\\u0c2f\\u0c3e',\n",
       "     u'\\u0cb8\\u0cbf\\u0cb0\\u0cbf\\u0caf\\u0cbe',\n",
       "     u'\\u0d38\\u0d3f\\u0d31\\u0d3f\\u0d2f',\n",
       "     u'\\u0e0b\\u0e35\\u0e40\\u0e23\\u0e35\\u0e22',\n",
       "     u'\\u0e1b\\u0e23\\u0e30\\u0e40\\u0e17\\u0e28\\u0e0b\\u0e35\\u0e40\\u0e23\\u0e35\\u0e22',\n",
       "     u'\\u0e8a\\u0eb4\\u0ec0\\u0ea5\\u0e8d',\n",
       "     u'\\u1006\\u102e\\u1038\\u101b\\u102e\\u1038\\u101a\\u102c\\u1038',\n",
       "     u'\\u10e1\\u10d8\\u10e0\\u10d8\\u10d0',\n",
       "     u'\\u1232\\u122a\\u12eb',\n",
       "     u'\\u179f\\u17ca\\u17b8\\u179a\\u17b8',\n",
       "     u'\\u30b7\\u30ea\\u30a2',\n",
       "     u'\\u30b7\\u30ea\\u30a2\\u30fb\\u30a2\\u30e9\\u30d6\\u5171\\u548c\\u56fd',\n",
       "     u'\\u53d9\\u5229\\u4e9a',\n",
       "     u'\\uc2dc\\ub9ac\\uc544'],\n",
       "    'asciiname': u'syrian arab republic',\n",
       "    'cc2': u'',\n",
       "    'city': '',\n",
       "    'confidence': 0.9997159125197911,\n",
       "    'coordinates': [38.0, 35.0],\n",
       "    'country': u'Syria',\n",
       "    'countryCode': u'sy',\n",
       "    'dem': u'918',\n",
       "    'elevation': -1,\n",
       "    'featureClass': u'a',\n",
       "    'featureCode': u'pcli',\n",
       "    'geonameid': u'163843',\n",
       "    'id': u'163843',\n",
       "    'ltype': 'country',\n",
       "    'modificationDate': u'2016-08-18',\n",
       "    'name': u'syrian arab republic',\n",
       "    'population': 22198110,\n",
       "    'timezone': u'asia/damascus'},\n",
       "   'score': 0.0773665611725929},\n",
       "  u'\\u0634\\u064a\\u0628\\u0627': {'geo_point': {'_score': 1.0,\n",
       "    'admin1': u'Aleppo',\n",
       "    'admin2': '',\n",
       "    'admin3': u'',\n",
       "    'admin4': u'',\n",
       "    'alternatenames': [u'chiha',\n",
       "     u'ch\\xeeha',\n",
       "     u'shiha',\n",
       "     u'shihah',\n",
       "     u'sh\\u012b\\u1e29ah',\n",
       "     u'sh\\u012b\\u1e29\\u0101',\n",
       "     u'shyha',\n",
       "     u'\\u0634\\u064a\\u062d\\u0627'],\n",
       "    'asciiname': u'shiha',\n",
       "    'cc2': u'',\n",
       "    'city': u'sh\\u012b\\u1e29\\u0101',\n",
       "    'confidence': 0.1111111111111111,\n",
       "    'coordinates': [37.99743, 36.27112],\n",
       "    'country': u'Syria',\n",
       "    'countryCode': u'sy',\n",
       "    'dem': u'371',\n",
       "    'elevation': -1,\n",
       "    'featureClass': u'p',\n",
       "    'featureCode': u'ppl',\n",
       "    'geonameid': u'164277',\n",
       "    'id': u'164277',\n",
       "    'ltype': 'city',\n",
       "    'modificationDate': u'2012-01-17',\n",
       "    'name': u'sh\\u012b\\u1e29\\u0101',\n",
       "    'population': 0,\n",
       "    'timezone': u'asia/damascus'},\n",
       "   'score': 0.009619815227892826}},\n",
       " {'_score': 0.9812012429601576,\n",
       "  'admin1': u'\\xcele-de-France',\n",
       "  'admin2': u'Paris',\n",
       "  'admin3': u'751',\n",
       "  'admin4': u'75056',\n",
       "  'alternatenames': [u'baariis',\n",
       "   u'bahliz',\n",
       "   u'gorad paryzh',\n",
       "   u'lungsod ng paris',\n",
       "   u'lutece',\n",
       "   u'lutetia',\n",
       "   u'lutetia parisorum',\n",
       "   u'lut\\xe8ce',\n",
       "   u'par',\n",
       "   u'pa-ri',\n",
       "   u'paarys',\n",
       "   u'palika',\n",
       "   u'paname',\n",
       "   u'pantruche',\n",
       "   u'paraeis',\n",
       "   u'paras',\n",
       "   u'pari',\n",
       "   u'paries',\n",
       "   u'parigge',\n",
       "   u'pariggi',\n",
       "   u'parighji',\n",
       "   u'parigi',\n",
       "   u'pariis',\n",
       "   u'pariisi',\n",
       "   u'pariizu',\n",
       "   u'parii\\u017eu',\n",
       "   u'parij',\n",
       "   u'parijs',\n",
       "   u'paris',\n",
       "   u'parisi',\n",
       "   u'parixe',\n",
       "   u'pariz',\n",
       "   u'parize',\n",
       "   u'parizh',\n",
       "   u'parizh osh',\n",
       "   u\"parizh'\",\n",
       "   u'parizo',\n",
       "   u'parizs',\n",
       "   u'pari\\u017e',\n",
       "   u'parys',\n",
       "   u'paryz',\n",
       "   u'paryzius',\n",
       "   u'pary\\u017c',\n",
       "   u'pary\\u017eius',\n",
       "   u'par\\xe4is',\n",
       "   u'par\\xeds',\n",
       "   u'par\\xed\\u017e',\n",
       "   u'par\\xees',\n",
       "   u'par\\u0129',\n",
       "   u'par\\u012b',\n",
       "   u'par\\u012bze',\n",
       "   u'pa\\u0159\\xed\\u017e',\n",
       "   u'p\\xe1ras',\n",
       "   u'p\\xe1rizs',\n",
       "   u'ville-lumiere',\n",
       "   u'ville-lumi\\xe8re',\n",
       "   u'ba li',\n",
       "   u'barys',\n",
       "   u'pairisa',\n",
       "   u'pali',\n",
       "   u'pari',\n",
       "   u'paris',\n",
       "   u'parys',\n",
       "   u'paryzh',\n",
       "   u'perisa',\n",
       "   u'pryz',\n",
       "   u'pyaris',\n",
       "   u'pyarisa',\n",
       "   u'pyrs',\n",
       "   u'\\u03c0\\u03b1\\u03c1\\u03af\\u03c3\\u03b9',\n",
       "   u'\\u0433\\u043e\\u0440\\u0430\\u0434 \\u043f\\u0430\\u0440\\u044b\\u0436',\n",
       "   u'\\u043f\\u0430\\u0440\\u0438\\u0436',\n",
       "   u'\\u043f\\u0430\\u0440\\u0438\\u0436 \\u043e\\u0448',\n",
       "   u'\\u043f\\u0430\\u0440\\u0438\\u0436\\u044c',\n",
       "   u'\\u043f\\u0430\\u0440\\u0438\\u0437',\n",
       "   u'\\u043f\\u0430\\u0440\\u0438\\u0441',\n",
       "   u'\\u043f\\u0430\\u0440\\u0456\\u0436',\n",
       "   u'\\u0583\\u0561\\u0580\\u056b\\u0566',\n",
       "   u'\\u05e4\\u05d0\\u05e8\\u05d9\\u05d6',\n",
       "   u'\\u05e4\\u05e8\\u05d9\\u05d6',\n",
       "   u'\\u0628\\u0627\\u0631\\u064a\\u0633',\n",
       "   u'\\u067e\\u0627\\u0631\\u0649\\u0698',\n",
       "   u'\\u067e\\u0627\\u0631\\u064a\\u0633',\n",
       "   u'\\u067e\\u0627\\u0631\\u06cc\\u0633',\n",
       "   u'\\u067e\\u06cc\\u0631\\u0633',\n",
       "   u'\\u0726\\u0710\\u072a\\u071d\\u0723',\n",
       "   u'\\u092a\\u0945\\u0930\\u093f\\u0938',\n",
       "   u'\\u092a\\u0947\\u0930\\u093f\\u0938',\n",
       "   u'\\u092a\\u0948\\u0930\\u093f\\u0938',\n",
       "   u'\\u09aa\\u09cd\\u09af\\u09be\\u09b0\\u09bf\\u09b8',\n",
       "   u'\\u0a2a\\u0a48\\u0a30\\u0a3f\\u0a38',\n",
       "   u'\\u0aaa\\u0ac5\\u0ab0\\u0abf\\u0ab8',\n",
       "   u'\\u0baa\\u0bbe\\u0bb0\\u0bbf\\u0bb8\\u0bcd',\n",
       "   u'\\u0c2a\\u0c3e\\u0c30\\u0c3f\\u0c38\\u0c4d',\n",
       "   u'\\u0caa\\u0ccd\\u0caf\\u0cbe\\u0cb0\\u0cbf\\u0cb8\\u0ccd',\n",
       "   u'\\u0d2a\\u0d3e\\u0d30\\u0d3f\\u0d38\\u0d4d',\n",
       "   u'\\u0e1b\\u0e32\\u0e23\\u0e35\\u0e2a',\n",
       "   u'\\u0f55\\u0f0b\\u0f62\\u0f72\\u0f0d',\n",
       "   u'\\u1015\\u102b\\u101b\\u102e\\u1019\\u103c\\u102d\\u102f\\u1037',\n",
       "   u'\\u10de\\u10d0\\u10e0\\u10d8\\u10d6\\u10d8',\n",
       "   u'\\u1353\\u122a\\u1235',\n",
       "   u'\\u1794\\u17c9\\u17b6\\u179a\\u17b8\\u179f',\n",
       "   u'\\u30d1\\u30ea',\n",
       "   u'\\u5df4\\u9ece',\n",
       "   u'\\ud30c\\ub9ac'],\n",
       "  'asciiname': u'paris',\n",
       "  'cc2': u'',\n",
       "  'city': u'paris',\n",
       "  'confidence': 0.9536255943103633,\n",
       "  'coordinates': [2.3488, 48.85341],\n",
       "  'country': u'France',\n",
       "  'countryCode': u'fr',\n",
       "  'dem': u'42',\n",
       "  'elevation': -1,\n",
       "  'featureClass': u'p',\n",
       "  'featureCode': u'pplc',\n",
       "  'geonameid': u'2988507',\n",
       "  'id': u'2988507',\n",
       "  'ltype': 'city',\n",
       "  'modificationDate': u'2017-06-12',\n",
       "  'name': u'paris',\n",
       "  'population': 2138551,\n",
       "  'timezone': u'europe/paris'})"
      ]
     },
     "execution_count": 7,
     "metadata": {},
     "output_type": "execute_result"
    }
   ],
   "source": [
    "geo.geocode_fromList(loc[0], fuzzy=1, reduce=True)"
   ]
  },
  {
   "cell_type": "code",
   "execution_count": 63,
   "metadata": {},
   "outputs": [],
   "source": [
    "for c in unc:\n",
    "    if c not in noloc:\n",
    "        if c in cc:\n",
    "            cc.pop(c)"
   ]
  },
  {
   "cell_type": "code",
   "execution_count": 64,
   "metadata": {},
   "outputs": [
    {
     "name": "stdout",
     "output_type": "stream",
     "text": [
      "الاتحاد الأوروبي\n",
      "الولايات المتحدة\n",
      "قصر النيل\n",
      "إسطنبول\n",
      "للسعودية\n",
      "مستشفى المعادي\n",
      "بشارع قصر العيني\n",
      "أمريكا اللاتينية\n",
      "للمملكة العربية السعودية\n",
      "الشرق الأوسط\n",
      "للقاهرة\n",
      "البحر المتوسط\n",
      "كرادة مريم\n",
      "ومخارج\n",
      "بميدان سرور\n",
      "دار الأوبرا\n",
      "كوم أمبو\n",
      "برج العرب\n",
      "إسكتلندا\n",
      "أخميم\n"
     ]
    }
   ],
   "source": [
    "for key, val in cc.most_common(20):\n",
    "    print(key)"
   ]
  },
  {
   "cell_type": "code",
   "execution_count": 47,
   "metadata": {},
   "outputs": [
    {
     "name": "stdout",
     "output_type": "stream",
     "text": [
      "('Brazil/S\\xc3\\xa3o Paulo/s\\xc3\\xa3o paulo', u'ppla', 10021295, 0.8888888888888888, 0.89, u'3448439')\n"
     ]
    }
   ],
   "source": [
    "mystr = u'البحر المتوسط'\n",
    "mystr = u'ميناء سفاجا'\n",
    "mystr = cc.most_common(20)[10][0]\n",
    "for l in geo.gazetteer.query(remove_stopwords(mystr), fuzzy=1):\n",
    "    print((l.__str__()).encode(\"utf-8\"),  l.featureCode, l.population, l._score, round(l.confidence, 2), l.geonameid)"
   ]
  },
  {
   "cell_type": "code",
   "execution_count": 50,
   "metadata": {},
   "outputs": [],
   "source": [
    "unc = set([l[0] for l in cc.most_common(20)])"
   ]
  },
  {
   "cell_type": "code",
   "execution_count": 51,
   "metadata": {},
   "outputs": [
    {
     "name": "stdout",
     "output_type": "stream",
     "text": [
      "[]\n",
      "[]\n",
      "[]\n",
      "[]\n",
      "[<geoutils.GeoPoint object at 0x7fa786bc6150>, <geoutils.GeoPoint object at 0x7fa786bc62d0>, <geoutils.GeoPoint object at 0x7fa786bc64d0>, <geoutils.GeoPoint object at 0x7fa786bc6b90>]\n",
      "[<geoutils.GeoPoint object at 0x7fa786ff4a90>, <geoutils.GeoPoint object at 0x7fa7ac39d610>, <geoutils.GeoPoint object at 0x7fa786a7f150>, <geoutils.GeoPoint object at 0x7fa786ff4ed0>, <geoutils.GeoPoint object at 0x7fa786ff4150>, <geoutils.GeoPoint object at 0x7fa786ff4390>]\n",
      "[<geoutils.GeoPoint object at 0x7fa786ff4050>, <geoutils.GeoPoint object at 0x7fa786ff4950>, <geoutils.GeoPoint object at 0x7fa786e5c710>, <geoutils.GeoPoint object at 0x7fa786e5ce90>, <geoutils.GeoPoint object at 0x7fa786ff4750>, <geoutils.GeoPoint object at 0x7fa786ff4490>]\n",
      "[<geoutils.GeoPoint object at 0x7fa786f14a10>]\n",
      "[<geoutils.GeoPoint object at 0x7fa786e5c890>, <geoutils.GeoPoint object at 0x7fa786e5ca50>]\n",
      "[]\n",
      "[<geoutils.GeoPoint object at 0x7fa786e5c490>]\n",
      "[<geoutils.GeoPoint object at 0x7fa786e5c650>]\n",
      "[]\n",
      "[]\n",
      "[<geoutils.GeoPoint object at 0x7fa786e5c410>, <geoutils.GeoPoint object at 0x7fa786e5cd90>]\n",
      "[<geoutils.GeoPoint object at 0x7fa7869ec750>, <geoutils.GeoPoint object at 0x7fa7869ec950>, <geoutils.GeoPoint object at 0x7fa7869ec290>, <geoutils.GeoPoint object at 0x7fa786e5c7d0>, <geoutils.GeoPoint object at 0x7fa7869eca50>, <geoutils.GeoPoint object at 0x7fa7869ec050>, <geoutils.GeoPoint object at 0x7fa786e5c690>, <geoutils.GeoPoint object at 0x7fa7869ec490>, <geoutils.GeoPoint object at 0x7fa7869ecf50>, <geoutils.GeoPoint object at 0x7fa7869ec110>]\n",
      "[<geoutils.GeoPoint object at 0x7fa786e5c090>, <geoutils.GeoPoint object at 0x7fa7869ec150>]\n",
      "[]\n",
      "[]\n",
      "[]\n"
     ]
    }
   ],
   "source": [
    "cb, em = test()"
   ]
  },
  {
   "cell_type": "code",
   "execution_count": 52,
   "metadata": {},
   "outputs": [
    {
     "data": {
      "text/plain": [
       "10"
      ]
     },
     "execution_count": 52,
     "metadata": {},
     "output_type": "execute_result"
    }
   ],
   "source": [
    "cb"
   ]
  },
  {
   "cell_type": "code",
   "execution_count": 23,
   "metadata": {},
   "outputs": [
    {
     "name": "stdout",
     "output_type": "stream",
     "text": [
      "بشارع قصر العيني\n",
      "الاتحاد الأوروبي\n",
      "مستشفى المعادي\n",
      "أمريكا اللاتينية\n",
      "المنيب\n",
      "سيناء\n",
      "ساوباولو\n",
      "البحر الأحمر\n",
      "الشرق الأوسط\n",
      "الأزهر\n",
      "الأهرام\n",
      "الولايات المتحدة\n",
      "إسطنبول\n",
      "بنى سويف\n",
      "كفرالشيخ\n",
      "قصر النيل\n",
      "للسعودية\n",
      "للمملكة العربية السعودية\n"
     ]
    }
   ],
   "source": [
    "for l in em:\n",
    "    print(l)"
   ]
  },
  {
   "cell_type": "code",
   "execution_count": 61,
   "metadata": {},
   "outputs": [
    {
     "data": {
      "text/plain": [
       "u'\\u0645\\u064a\\u0646\\u0627\\u0621 \\u0633\\u0641\\u0627\\u062c\\u0627'"
      ]
     },
     "execution_count": 61,
     "metadata": {},
     "output_type": "execute_result"
    }
   ],
   "source": [
    "mystr"
   ]
  },
  {
   "cell_type": "code",
   "execution_count": 58,
   "metadata": {},
   "outputs": [
    {
     "name": "stdout",
     "output_type": "stream",
     "text": [
      "('United States/California/city of port hueneme', u'admd', 'city', 0.5249195225157284, 0.0422681012191062, u'city of port hueneme')\n",
      "('United States/Florida/city of port orange', u'adm3', 'city', 0.5246970745866301, 0.10897994281979602, u'city of port orange')\n",
      "('United States/Texas/city of port arthur', u'adm3', 'city', 0.5249195225157284, 0.10468906052648269, u'city of port arthur')\n",
      "('United States/South Carolina/town of port royal', u'admd', 'city', 0.5246970745866301, 0.02077808036066181, u'town of port royal')\n",
      "('Egypt/Red Sea/safaga', u'ppl', 'city', 1.0, 0.12209797775455913, u'safaga')\n",
      "('United States/Florida/city of north port', u'adm3', 'city', 0.5246970745866301, 0.1115247133280395, u'city of north port')\n",
      "('United States/Illinois/village of gulf port', u'admd', 'city', 0.5249195225157284, 0.000124472391203368, u'village of gulf port')\n",
      "('United States/South Dakota/township of lake port', u'admd', 'city', 0.5246970745866301, 1.9440569199721008e-05, u'township of lake port')\n",
      "('Trinidad and Tobago/City of Port of Spain/', u'adm1', 'admin1', 0.54219549859154, 0.07449769123805539, u'city of port of spain')\n",
      "('United States/Alaska/city of port heiden', u'admd', 'city', 0.5246970745866301, 0.00021773437503687528, u'city of port heiden')\n"
     ]
    }
   ],
   "source": [
    "for l in geo.gazetteer.query(\"port of safaga\"):\n",
    "    print(l.__str__().encode(\"utf-8\"), l.featureCode, l.ltype, l._score, l.confidence, l.name)"
   ]
  },
  {
   "cell_type": "code",
   "execution_count": 9,
   "metadata": {},
   "outputs": [
    {
     "data": {
      "text/plain": [
       "'1'"
      ]
     },
     "execution_count": 9,
     "metadata": {},
     "output_type": "execute_result"
    }
   ],
   "source": [
    "\" \".join([\"1\"])"
   ]
  },
  {
   "cell_type": "code",
   "execution_count": 64,
   "metadata": {},
   "outputs": [
    {
     "data": {
      "text/plain": [
       "[u'\\u0645\\u064a\\u0646\\u0627\\u0621', u'\\u0633\\u0641\\u0627\\u062c\\u0627']"
      ]
     },
     "execution_count": 64,
     "metadata": {},
     "output_type": "execute_result"
    }
   ],
   "source": [
    "nltk.tokenize.wordpunct_tokenize(mystr)"
   ]
  },
  {
   "cell_type": "code",
   "execution_count": 7,
   "metadata": {},
   "outputs": [
    {
     "data": {
      "text/plain": [
       "u' \\u0633\\u0641\\u0627\\u062c\\u0627'"
      ]
     },
     "execution_count": 7,
     "metadata": {},
     "output_type": "execute_result"
    }
   ],
   "source": [
    "reduce_stopwords(mystr)"
   ]
  },
  {
   "cell_type": "code",
   "execution_count": 60,
   "metadata": {},
   "outputs": [
    {
     "data": {
      "text/plain": [
       "{'_score': 1.0,\n",
       " 'admin1': u'Red Sea',\n",
       " 'admin2': '',\n",
       " 'admin3': u'',\n",
       " 'admin4': u'',\n",
       " 'alternatenames': [u'bur safaga',\n",
       "  u'bur safajah',\n",
       "  u'b\\u016br saf\\u0101jah',\n",
       "  u'port safaga',\n",
       "  u'safadza',\n",
       "  u'safad\\u017ca',\n",
       "  u'safaga',\n",
       "  u'sai fa jie',\n",
       "  u'sfaja',\n",
       "  u'\\u0441\\u0430\\u0444\\u0430\\u0433\\u0430',\n",
       "  u'\\u0633\\u0641\\u0627\\u062c\\u0627',\n",
       "  u'\\u585e\\u6cd5\\u6770'],\n",
       " 'asciiname': u'safaga',\n",
       " 'cc2': u'',\n",
       " 'city': u'safaga',\n",
       " 'confidence': 0.12209797775455913,\n",
       " 'coordinates': [33.93891, 26.74906],\n",
       " 'country': u'Egypt',\n",
       " 'countryCode': u'eg',\n",
       " 'dem': u'41',\n",
       " 'elevation': -1,\n",
       " 'featureClass': u'p',\n",
       " 'featureCode': u'ppl',\n",
       " 'geonameid': u'358620',\n",
       " 'id': u'358620',\n",
       " 'ltype': 'city',\n",
       " 'modificationDate': u'2017-04-21',\n",
       " 'name': u'safaga',\n",
       " 'population': 32944,\n",
       " 'timezone': u'africa/cairo'}"
      ]
     },
     "execution_count": 60,
     "metadata": {},
     "output_type": "execute_result"
    }
   ],
   "source": [
    "geo.gazetteer.query(\"port of safaga\")[4].__dict__"
   ]
  },
  {
   "cell_type": "code",
   "execution_count": 21,
   "metadata": {},
   "outputs": [
    {
     "data": {
      "text/plain": [
       "{u'admin1': u'00',\n",
       " u'admin2': u'',\n",
       " u'admin3': u'',\n",
       " u'admin4': u'',\n",
       " u'alternatenames': [u'a rap saudi',\n",
       "  u'a-rap xe-ut',\n",
       "  u'a-rap xe-ut  (saudi arabia)',\n",
       "  u'a-r\\u1eadp x\\xea-\\xfat',\n",
       "  u'al mamlakah al `arabiyah as su`udiyah',\n",
       "  u'al mamlakah al \\u2018arab\\u012byah as su\\u2018\\u016bd\\u012byah',\n",
       "  u'al `arabiyah as su`udiyah',\n",
       "  u'al \\u2018arab\\u012byah as su\\u2018\\u016bd\\u012byah',\n",
       "  u'al-mamlaka al-`arabiya as-sa`udiya',\n",
       "  u'al-mamlaka al-\\u2018arabiya as-sa\\u2018udiya',\n",
       "  u'alabi sawudit\\u025b',\n",
       "  u'alabu nsawudi',\n",
       "  u'an araib shadach',\n",
       "  u'an araib sh\\xe1dach',\n",
       "  u'arab saudi',\n",
       "  u'arabbia saudita',\n",
       "  u'arabi saoudek',\n",
       "  u'arabi sawoudit',\n",
       "  u'arabia saoudat',\n",
       "  u'arabia saudi',\n",
       "  u'arabia saudiana',\n",
       "  u'arabia saudita',\n",
       "  u'arabia saudite',\n",
       "  u'arabia saudit\\u0103',\n",
       "  u'arabia saudyjska',\n",
       "  u'arabia saud\\xed',\n",
       "  u'arabia saodita',\n",
       "  u'arabie saoudita',\n",
       "  u'arabie saoudite',\n",
       "  u'arabii sawdit',\n",
       "  u'arabistoni saudi',\n",
       "  u'arabiya sawudite',\n",
       "  u'arabiya sawudiya',\n",
       "  u'arabya saudita',\n",
       "  u'arabyang saudi',\n",
       "  u'ar\\xe0bia saudita',\n",
       "  u'ar\\xe1bia saudita',\n",
       "  u'erebistana siyudi',\n",
       "  u'erebistana siy\\xfbd\\xee',\n",
       "  u'gharabja sawdita',\n",
       "  u'g\\u0127arabja sawdita',\n",
       "  u'kingdom of saudi arabia',\n",
       "  u'orileede saudi arabia',\n",
       "  u'or\\xedl\\u1eb9\\u0301\\xe8de saudi arabia',\n",
       "  u'sacuudi carabiya',\n",
       "  u'sadi-arabia',\n",
       "  u'saoedi-arabie',\n",
       "  u'saoedi-arabi\\xeb',\n",
       "  u'saoudike arabia',\n",
       "  u'saud arabijasy',\n",
       "  u'sauda arabija',\n",
       "  u'sauda arabio',\n",
       "  u'sauda arabujo',\n",
       "  u'sauda-larabaen',\n",
       "  u'sauda-larab\\xe4n',\n",
       "  u'saudauskaa aravia',\n",
       "  u'saudi',\n",
       "  u'saudi araabia',\n",
       "  u'saudi arabia',\n",
       "  u'saudi arabia nutome',\n",
       "  u'saudi arabian kingdom',\n",
       "  u'saudi arabii',\n",
       "  u'saudi \\u0259r\\u0259bistan',\n",
       "  u'saudi-arabia',\n",
       "  u'saudi-arabie',\n",
       "  u'saudi-arabien',\n",
       "  u'saudi-arabi\\xeb',\n",
       "  u'saudi-ar\\xe1bia',\n",
       "  u'saudian arabia',\n",
       "  u'saudiarabien',\n",
       "  u'saudijska arabija',\n",
       "  u'saudisc arabea',\n",
       "  u'saudiska arabija',\n",
       "  u'saudita arabia',\n",
       "  u'sauditska arabija',\n",
       "  u\"saudivs'ka aravija\",\n",
       "  u'saudo arabija',\n",
       "  u'saudova arabija',\n",
       "  u'saudovskaja aravija',\n",
       "  u'saudska arabia',\n",
       "  u'saudska arabie',\n",
       "  u'saudsk\\xe1 ar\\xe1bia',\n",
       "  u'saudsk\\xe1 ar\\xe1bie',\n",
       "  u'saudy-araabje',\n",
       "  u\"saute 'alepea\",\n",
       "  u'saute \\u02bbalepea',\n",
       "  u'sawdi arabia',\n",
       "  u'sawdi-arabia',\n",
       "  u'sawdi-arabska',\n",
       "  u'sawud arabya',\n",
       "  u'sawudarebya - buwarabu',\n",
       "  u'sa\\xfadsk\\xe1 ar\\xe1bie',\n",
       "  u'sa\\xfbdi arab\\xefi',\n",
       "  u'sa\\xfbdy-araabje',\n",
       "  u'sa\\u016bda ar\\u0101bija',\n",
       "  u'sa\\u016dda arabujo',\n",
       "  u'suudi arabistan',\n",
       "  u'szaud-arabia',\n",
       "  u'szaud-ar\\xe1bia',\n",
       "  u'sza\\xfad-ar\\xe1bia',\n",
       "  u's\\xe1di-arab\\xeda',\n",
       "  u's\\xe1d\\xed-arab\\xeda',\n",
       "  u's\\u0259udiyy\\u0259 \\u0259r\\u0259bistan\\u0131',\n",
       "  u'cavuti arepiya',\n",
       "  u'i-saudi arabia',\n",
       "  u'prathes saxudixarabeiy',\n",
       "  u\"sa'udi araba\",\n",
       "  u\"sa'udi arabi'a\",\n",
       "  u\"sa'udi arebiya\",\n",
       "  u'sadi arebya',\n",
       "  u'saudi alabia',\n",
       "  u'saudi araba',\n",
       "  u'saudi arebiya',\n",
       "  u'saudialabia',\n",
       "  u'saudis arabeti',\n",
       "  u'saujiarabia',\n",
       "  u'saujiarabia wang guo',\n",
       "  u'saxudixarabeiy',\n",
       "  u'sedi arebya',\n",
       "  u'sha te a la bo',\n",
       "  u'\\u0199asar makka',\n",
       "  u'\\u03c3\\u03b1\\u03bf\\u03c5\\u03b4\\u03b9\\u03ba\\u03ae \\u03b1\\u03c1\\u03b1\\u03b2\\u03af\\u03b1',\n",
       "  u'\\u0430\\u0440\\u0430\\u0431\\u0438\\u0441\\u0442\\u043e\\u043d\\u0438 \\u0441\\u0430\\u0443\\u0434\\u04e3',\n",
       "  u'\\u0441\\u0430\\u0443\\u0434 \\u0430\\u0440\\u0430\\u0431\\u0438\\u044f\\u0441\\u044b',\n",
       "  u'\\u0441\\u0430\\u0443\\u0434\\u0430\\u045e\\u0441\\u043a\\u0430\\u044f \\u0430\\u0440\\u0430\\u0432\\u0456\\u044f',\n",
       "  u'\\u0441\\u0430\\u0443\\u0434\\u0438\\u0441\\u043a\\u0430 \\u0430\\u0440\\u0430\\u0431\\u0438\\u0458\\u0430',\n",
       "  u'\\u0441\\u0430\\u0443\\u0434\\u0438\\u0442\\u0441\\u043a\\u0430 \\u0430\\u0440\\u0430\\u0431\\u0438\\u044f',\n",
       "  u'\\u0441\\u0430\\u0443\\u0434\\u0438\\u0458\\u0441\\u043a\\u0430 \\u0430\\u0440\\u0430\\u0431\\u0438\\u0458\\u0430',\n",
       "  u'\\u0441\\u0430\\u0443\\u0434\\u043e\\u0432\\u0441\\u043a\\u0430\\u044f \\u0430\\u0440\\u0430\\u0432\\u0438\\u044f',\n",
       "  u'\\u0441\\u0430\\u0443\\u0434\\u0456\\u0432\\u0441\\u044c\\u043a\\u0430 \\u0430\\u0440\\u0430\\u0432\\u0456\\u044f',\n",
       "  u'\\u057d\\u0561\\u0578\\u0582\\u0564\\u056b\\u0561\\u0576 \\u0561\\u0580\\u0561\\u0562\\u056b\\u0561',\n",
       "  u'\\u05e2\\u05e8\\u05d1 \\u05d4\\u05e1\\u05e2\\u05d5\\u05d3\\u05d9\\u05ea',\n",
       "  u'\\u0627\\u0644\\u0633\\u0639\\u0648\\u062f\\u064a\\u0629',\n",
       "  u'\\u0627\\u0644\\u0639\\u0631\\u0628\\u064a\\u0629 \\u0627\\u0644\\u0633\\u0639\\u0648\\u062f\\u064a\\u0629',\n",
       "  u'\\u0627\\u0644\\u0645\\u0645\\u0644\\u0643\\u0629 \\u0627\\u0644\\u0639\\u0631\\u0628\\u064a\\u0629 \\u0627\\u0644\\u0633\\u0639\\u0648\\u062f\\u064a\\u0629',\n",
       "  u'\\u0633\\u0639\\u0648\\u062f\\u06cc \\u0639\\u0631\\u0628',\n",
       "  u'\\u0633\\u0639\\u0648\\u062f\\u06cc \\u0639\\u0631\\u0628\\u0633\\u062a\\u0627\\u0646',\n",
       "  u'\\u0633\\u06d5\\u0626\\u06c7\\u062f\\u0649 \\u0626\\u06d5\\u0631\\u06d5\\u0628\\u0649\\u0633\\u062a\\u0627\\u0646',\n",
       "  u'\\u0639\\u0631\\u0628\\u0633\\u062a\\u0627\\u0646',\n",
       "  u'\\u0639\\u06d5\\u0631\\u06d5\\u0628\\u0633\\u062a\\u0627\\u0646\\u06cc \\u0633\\u06d5\\u0639\\u0648\\u0648\\u062f\\u06cc',\n",
       "  u'\\u0723\\u0725\\u0718\\u0715\\u071d\\u0710',\n",
       "  u'\\u0938\\u0909\\u0926\\u0940 \\u0905\\u0930\\u092c',\n",
       "  u'\\u0938\\u090a\\u0926\\u0940 \\u0905\\u0930\\u092c',\n",
       "  u'\\u0938\\u093e\\u0909\\u0926\\u0940 \\u0905\\u0930\\u092c',\n",
       "  u'\\u0938\\u094c\\u0926\\u0940 \\u0905\\u0930\\u092c',\n",
       "  u'\\u09b8\\u09be\\u0989\\u09a6\\u09bf \\u0986\\u09b0\\u09ac',\n",
       "  u'\\u09b8\\u09cc\\u09a6\\u09bf \\u0986\\u09b0\\u09ac',\n",
       "  u'\\u0ab8\\u0abe\\u0a89\\u0aa6\\u0ac0 \\u0a85\\u0ab0\\u0ac7\\u0aac\\u0abf\\u0aaf\\u0abe',\n",
       "  u'\\u0b38\\u0b3e\\u0b09\\u0b26\\u0b3f \\u0b06\\u0b30\\u0b2c\\u0b3f\\u0b06',\n",
       "  u'\\u0b9a\\u0bb5\\u0bc2\\u0ba4\\u0bbf \\u0b85\\u0bb0\\u0bc7\\u0baa\\u0bbf\\u0baf\\u0bbe',\n",
       "  u'\\u0c38\\u0c4c\\u0c26\\u0c40 \\u0c05\\u0c30\\u0c47\\u0c2c\\u0c3f\\u0c2f\\u0c3e',\n",
       "  u'\\u0cb8\\u0ccc\\u0ca6\\u0cbf \\u0c85\\u0cb0\\u0cc7\\u0cac\\u0cbf\\u0caf\\u0cbe',\n",
       "  u'\\u0d38\\u0d4c\\u0d26\\u0d3f \\u0d05\\u0d31\\u0d47\\u0d2c\\u0d4d\\u0d2f',\n",
       "  u'\\u0d38\\u0d57\\u0d26\\u0d3f \\u0d05\\u0d31\\u0d47\\u0d2c\\u0d4d\\u0d2f',\n",
       "  u'\\u0dc3\\u0dde\\u0daf\\u0dd2 \\u0d85\\u0dbb\\u0dcf\\u0db6\\u0dd2\\u0dba',\n",
       "  u'\\u0e0b\\u0e32\\u0e2d\\u0e38\\u0e14\\u0e35\\u0e2d\\u0e32\\u0e23\\u0e30\\u0e40\\u0e1a\\u0e35\\u0e22',\n",
       "  u'\\u0e1b\\u0e23\\u0e30\\u0e40\\u0e17\\u0e28\\u0e0b\\u0e32\\u0e2d\\u0e38\\u0e14\\u0e35\\u0e2d\\u0e32\\u0e23\\u0e30\\u0e40\\u0e1a\\u0e35\\u0e22',\n",
       "  u'\\u0e8a\\u0eb2\\u0ead\\u0eb8\\u0e94\\u0eb4\\u0ead\\u0eb2\\u0ea5\\u0eb0\\u0ec0\\u0e9a\\u0e8d',\n",
       "  u'\\u0f66\\u0f60\\u0f74\\u0f0b\\u0f51\\u0f72\\u0f0b\\u0f68\\u0f7a\\u0f0b\\u0f62\\u0f0b\\u0f66\\u0fa6\\u0f72\\u0f0b\\u0f61',\n",
       "  u'\\u0f66\\u0f7d\\u0f0b\\u0f51\\u0fb7\\u0f72\\u0f0b\\u0f68\\u0f0b\\u0f62\\u0f71\\u0f0b\\u0f56\\u0f72\\u0f0b\\u0f61\\u0f0d',\n",
       "  u'\\u1006\\u1031\\u102c\\u103a\\u1012\\u102e\\u1021\\u102c\\u101b\\u1031\\u1038\\u1017\\u102e\\u1038\\u101a\\u102c\\u1038',\n",
       "  u'\\u10e1\\u10d0\\u10e3\\u10d3\\u10d8\\u10e1 \\u10d0\\u10e0\\u10d0\\u10d1\\u10d4\\u10d7\\u10d8',\n",
       "  u'\\u1233\\u12cd\\u12f5\\u12a0\\u1228\\u1262\\u12eb',\n",
       "  u'\\u17a2\\u17b6\\u179a\\u17c9\\u17b6\\u1794\\u17ca\\u17b8\\u179f\\u17b6\\u17a2\\u17ca\\u17bc\\u178c\\u17b8\\u178f',\n",
       "  u'\\u1ea3 r\\u1eadp saudi',\n",
       "  u'\\u1ea3-r\\u1eadp x\\xea-\\xfat  (saudi arabia)',\n",
       "  u'\\u30b5\\u30a6\\u30b8\\u30a2\\u30e9\\u30d3\\u30a2',\n",
       "  u'\\u30b5\\u30a6\\u30b8\\u30a2\\u30e9\\u30d3\\u30a2\\u738b\\u56fd',\n",
       "  u'\\u6c99\\u7279\\u963f\\u62c9\\u4f2f',\n",
       "  u'\\uc0ac\\uc6b0\\ub514 \\uc544\\ub77c\\ube44\\uc544',\n",
       "  u'\\uc0ac\\uc6b0\\ub514\\uc544\\ub77c\\ube44\\uc544'],\n",
       " u'asciiname': u'kingdom of saudi arabia',\n",
       " u'cc2': u'',\n",
       " u'coordinates': [45.0, 25.0],\n",
       " u'countryCode': u'sa',\n",
       " u'dem': u'790',\n",
       " u'elevation': -1,\n",
       " u'featureClass': u'a',\n",
       " u'featureCode': u'pcli',\n",
       " u'id': u'102358',\n",
       " u'modificationDate': u'2015-06-04',\n",
       " u'name': u'kingdom of saudi arabia',\n",
       " u'population': 25731776,\n",
       " u'timezone': u'asia/riyadh'}"
      ]
     },
     "execution_count": 21,
     "metadata": {},
     "output_type": "execute_result"
    }
   ],
   "source": [
    "geo.gazetteer.db.getByid(\"102358\")"
   ]
  },
  {
   "cell_type": "code",
   "execution_count": 113,
   "metadata": {},
   "outputs": [
    {
     "data": {
      "text/plain": [
       "'\\xd8\\xa5\\xd8\\xb3\\xd8\\xb7\\xd9\\x86\\xd8\\xa8\\xd9\\x88\\xd9\\x84'"
      ]
     },
     "execution_count": 113,
     "metadata": {},
     "output_type": "execute_result"
    }
   ],
   "source": [
    "s2"
   ]
  },
  {
   "cell_type": "code",
   "execution_count": 94,
   "metadata": {},
   "outputs": [],
   "source": [
    "import nltk"
   ]
  },
  {
   "cell_type": "code",
   "execution_count": 209,
   "metadata": {},
   "outputs": [
    {
     "data": {
      "text/plain": [
       "u'\\u0621\\u0633\\u0637\\u0646\\u0628\\u0648\\u0644'"
      ]
     },
     "execution_count": 209,
     "metadata": {},
     "output_type": "execute_result"
    }
   ],
   "source": [
    "araby.normalize_hamza(lastfour[1][0])"
   ]
  },
  {
   "cell_type": "code",
   "execution_count": 102,
   "metadata": {},
   "outputs": [
    {
     "data": {
      "text/plain": [
       "[]"
      ]
     },
     "execution_count": 102,
     "metadata": {},
     "output_type": "execute_result"
    }
   ],
   "source": [
    "geo.gazetteer.query(lastfour[1][0])"
   ]
  },
  {
   "cell_type": "code",
   "execution_count": 211,
   "metadata": {},
   "outputs": [
    {
     "data": {
      "text/plain": [
       "u'\\u0627\\u0633\\u0637\\u0646\\u0628\\u0648\\u0644'"
      ]
     },
     "execution_count": 211,
     "metadata": {},
     "output_type": "execute_result"
    }
   ],
   "source": [
    "araby.normalize_ligature(u'\\u0627\\u0633\\u0637\\u0646\\u0628\\u0648\\u0644')"
   ]
  },
  {
   "cell_type": "code",
   "execution_count": 212,
   "metadata": {},
   "outputs": [
    {
     "data": {
      "text/plain": [
       "-1"
      ]
     },
     "execution_count": 212,
     "metadata": {},
     "output_type": "execute_result"
    }
   ],
   "source": [
    "araby.vocalized_similarity(u'\\u0627\\u0633\\u0637\\u0646\\u0628\\u0648\\u0644', lastfour[1][0])"
   ]
  },
  {
   "cell_type": "code",
   "execution_count": 114,
   "metadata": {},
   "outputs": [
    {
     "data": {
      "text/plain": [
       "u'\\u0627\\u0633\\u0637\\u0646\\u0628\\u0648\\u0644'"
      ]
     },
     "execution_count": 114,
     "metadata": {},
     "output_type": "execute_result"
    }
   ],
   "source": [
    "geo.gazetteer.query(\"istanbul\")[1].alternatenames[-7]"
   ]
  },
  {
   "cell_type": "code",
   "execution_count": 108,
   "metadata": {},
   "outputs": [
    {
     "name": "stdout",
     "output_type": "stream",
     "text": [
      "bizanc\n",
      "bizánc\n",
      "byzance\n",
      "byzantion\n",
      "byzantium\n",
      "byzanz\n",
      "constantinoble\n",
      "constantinopla\n",
      "constantinople\n",
      "constantinopolen\n",
      "constantinopoli\n",
      "constantinopolis\n",
      "costantinopoli\n",
      "estambul\n",
      "ist\n",
      "istamboul\n",
      "istambul\n",
      "istambuł\n",
      "istampoul\n",
      "istanbul\n",
      "istanbúl\n",
      "isztambul\n",
      "konstantinapoly\n",
      "konstantinopel\n",
      "konstantinopolo\n",
      "konstantinoupole\n",
      "konstantinoupoli\n",
      "konstantinoupolis\n",
      "konstantinápoly\n",
      "kustantiniyah\n",
      "micklagard\n",
      "micklagård\n",
      "mikligardur\n",
      "mikligarður\n",
      "stamboul\n",
      "stambul\n",
      "stambula\n",
      "stambuł\n",
      "tsarigrad\n",
      "vizantija (vizantija)\n",
      "vyzantio\n",
      "astnbwl\n",
      "bijantium\n",
      "byuzantion\n",
      "byzntywn\n",
      "iseutanbul\n",
      "istambula\n",
      "isutanburu\n",
      "stin poli [stimˈboli]\n",
      "yi si tan bu er\n",
      "istanbul\n",
      "βυζάντιο\n",
      "βυζαντιο\n",
      "ισταμπουλ\n",
      "ισταμπούλ\n",
      "κωνσταντινουπολη\n",
      "κωνσταντινούπολη\n",
      "κωνσταντινούπολις\n",
      "στην πόλι [stimˈboli]\n",
      "византија (vizantija)\n",
      "истанбул\n",
      "стамбул\n",
      "ביזנטיון\n",
      "اسطنبول\n",
      "इस्तांबुल\n",
      "イスタンブール\n",
      "ビュザンティオン\n",
      "伊斯坦布尔\n",
      "비잔티움\n",
      "이스탄불\n"
     ]
    }
   ],
   "source": [
    "for l in geo.gazetteer.query(\"istanbul\")[1].alternatenames:\n",
    "    print(l)"
   ]
  },
  {
   "cell_type": "code",
   "execution_count": 37,
   "metadata": {},
   "outputs": [],
   "source": [
    "corrected = \"الولايات المتحدة\"\n",
    "corrected = \"الولايات المتحدة الامريكانية\"\n",
    "\n",
    "for l in geo.gazetteer.query(\"الولايات المتحدة\".lower(), fuzzy=2, prefix_length=0, max_expansion=10000):\n",
    "    print(l.__str__().encode(\"utf-8\"), l.population, l._score, l.featureCode, 'usa' in l.alternatenames, l.name)"
   ]
  },
  {
   "cell_type": "code",
   "execution_count": 36,
   "metadata": {},
   "outputs": [
    {
     "name": "stdout",
     "output_type": "stream",
     "text": [
      "('Nigeria/Lagos/', 10601345, 0.4577235704160424)\n",
      "('South Sudan/08/warrap state', 920045, 0.4577235704160424)\n",
      "('Myanmar/Shan/', 5815384, 0.4577235704160424)\n",
      "('Nigeria/Abia/', 4222476, 0.4577235704160424)\n",
      "('South Africa/Orange Free State/', 2740946, 0.4577235704160424)\n",
      "('Myanmar/Kayin/', 1594146, 0.4577235704160424)\n",
      "('India/Madhya Pradesh/indore state', 0, 0.4577235704160424)\n",
      "('United States/Alaska/united state sur number 83', 0, 0.6074617587868925)\n",
      "('Japan/Saitama/satte', 55286, 0.5130774206865333)\n",
      "('United States//', 310232863, 1.0)\n"
     ]
    }
   ],
   "source": [
    "for l in geo.gazetteer.query(\"united state\".lower(), fuzzy=1):\n",
    "    print(l.__str__().encode(\"utf-8\"), l.population, l._score)"
   ]
  },
  {
   "cell_type": "code",
   "execution_count": 10,
   "metadata": {},
   "outputs": [
    {
     "name": "stderr",
     "output_type": "stream",
     "text": [
      "/home/sathappan/.local/lib/python2.7/site-packages/ipykernel_launcher.py:1: UnicodeWarning: Unicode equal comparison failed to convert both arguments to Unicode - interpreting them as being unequal\n",
      "  \"\"\"Entry point for launching an IPython kernel.\n"
     ]
    },
    {
     "data": {
      "text/plain": [
       "False"
      ]
     },
     "execution_count": 10,
     "metadata": {},
     "output_type": "execute_result"
    }
   ],
   "source": [
    "\"بريطانيا\" in geo.gazetteer.query(\"britain\".lower())[2].__dict__[\"alternatenames\"]\n"
   ]
  },
  {
   "cell_type": "code",
   "execution_count": 44,
   "metadata": {},
   "outputs": [
    {
     "ename": "AttributeError",
     "evalue": "'list' object has no attribute '__dict__'",
     "output_type": "error",
     "traceback": [
      "\u001b[0;31m---------------------------------------------------------------------------\u001b[0m",
      "\u001b[0;31mAttributeError\u001b[0m                            Traceback (most recent call last)",
      "\u001b[0;32m<ipython-input-44-f5c938a24362>\u001b[0m in \u001b[0;36m<module>\u001b[0;34m()\u001b[0m\n\u001b[0;32m----> 1\u001b[0;31m \u001b[0;32mfor\u001b[0m \u001b[0ml\u001b[0m \u001b[0;32min\u001b[0m \u001b[0mgeo\u001b[0m\u001b[0;34m.\u001b[0m\u001b[0mgazetteer\u001b[0m\u001b[0;34m.\u001b[0m\u001b[0mquery\u001b[0m\u001b[0;34m(\u001b[0m\u001b[0;34m\"United States\"\u001b[0m\u001b[0;34m.\u001b[0m\u001b[0mlower\u001b[0m\u001b[0;34m(\u001b[0m\u001b[0;34m)\u001b[0m\u001b[0;34m)\u001b[0m\u001b[0;34m.\u001b[0m\u001b[0m__dict__\u001b[0m\u001b[0;34m[\u001b[0m\u001b[0;34m\"alternatenames\"\u001b[0m\u001b[0;34m]\u001b[0m\u001b[0;34m:\u001b[0m\u001b[0;34m\u001b[0m\u001b[0m\n\u001b[0m\u001b[1;32m      2\u001b[0m     \u001b[0;32mprint\u001b[0m\u001b[0;34m(\u001b[0m\u001b[0ml\u001b[0m\u001b[0;34m)\u001b[0m\u001b[0;34m\u001b[0m\u001b[0m\n",
      "\u001b[0;31mAttributeError\u001b[0m: 'list' object has no attribute '__dict__'"
     ]
    }
   ],
   "source": [
    "for l in geo.gazetteer.query(\"United States\".lower()).__dict__[\"alternatenames\"]:\n",
    "    print(l)"
   ]
  },
  {
   "cell_type": "code",
   "execution_count": 60,
   "metadata": {},
   "outputs": [
    {
     "name": "stdout",
     "output_type": "stream",
     "text": [
      "United States//\n",
      "6252001\n"
     ]
    }
   ],
   "source": [
    "for l in geo.gazetteer.query(\"united states\".lower()):\n",
    "    print((l.__str__().encode(\"utf-8\")))\n",
    "    print(l.geonameid)"
   ]
  },
  {
   "cell_type": "code",
   "execution_count": null,
   "metadata": {},
   "outputs": [],
   "source": []
  },
  {
   "cell_type": "code",
   "execution_count": 75,
   "metadata": {},
   "outputs": [],
   "source": [
    "usa = [\n",
    "  u'\\u0627\\u0644\\u0627\\u0648\\u0644\\u0627\\u064a\\u0627\\u062a \\u0627\\u0644\\u0645\\u062a\\u062d\\u062f\\u0629 \\u0627\\u0644\\u0627\\u0645\\u0631\\u064a\\u0643\\u064a\\u0629',\n",
    "  u'\\u0627\\u0644\\u0648\\u0644\\u0627\\u064a\\u0627\\u062a \\u0627\\u0644\\u0645\\u062a\\u062d\\u062f\\u0629 \\u0627\\u0644\\u0623\\u0645\\u0631\\u064a\\u0643\\u064a\\u0629',\n",
    "  u'\\u0627\\u06cc\\u0627\\u0644\\u0627\\u062a \\u0645\\u062a\\u062d\\u062f\\u0647',\n",
    "  u'\\u0627\\u06cc\\u0627\\u0644\\u0627\\u062a \\u0645\\u062a\\u062d\\u062f\\u0647\\u0654 \\u0627\\u0645\\u0631\\u06cc\\u06a9\\u0627',\n",
    "  u'\\u0631\\u06cc\\u0627\\u0633\\u062a\\u06c1\\u0627\\u0626\\u06d2 \\u0645\\u062a\\u062d\\u062f\\u06c1',\n",
    "  u'\\u0648\\u06b5\\u0627\\u062a\\u06d5 \\u06cc\\u06d5\\u06a9\\u06af\\u0631\\u062a\\u0648\\u0648\\u06d5\\u06a9\\u0627\\u0646']"
   ]
  },
  {
   "cell_type": "code",
   "execution_count": 76,
   "metadata": {},
   "outputs": [
    {
     "name": "stdout",
     "output_type": "stream",
     "text": [
      "الاولايات المتحدة الامريكية\n",
      "الولايات المتحدة الأمريكية\n",
      "ایالات متحده\n",
      "ایالات متحدهٔ امریکا\n",
      "ریاستہائے متحدہ\n",
      "وڵاتە یەکگرتووەکان\n"
     ]
    }
   ],
   "source": [
    "for l in usa:\n",
    "    print(l)"
   ]
  },
  {
   "cell_type": "code",
   "execution_count": 22,
   "metadata": {},
   "outputs": [
    {
     "data": {
      "text/plain": [
       "1820"
      ]
     },
     "execution_count": 22,
     "metadata": {},
     "output_type": "execute_result"
    }
   ],
   "source": [
    "u'\\u0628\\u0627\\u0644\\u0625\\u0633\\u0643\\u0646\\u062f\\u0631\\u064a\\u0629'"
   ]
  },
  {
   "cell_type": "code",
   "execution_count": 31,
   "metadata": {},
   "outputs": [
    {
     "name": "stdout",
     "output_type": "stream",
     "text": [
      "('area', u'l')\n"
     ]
    }
   ],
   "source": [
    "for l in geo.gazetteer.query(loc[0][0]):\n",
    "    print(l.ltype, l.featureClass)"
   ]
  },
  {
   "cell_type": "code",
   "execution_count": 45,
   "metadata": {},
   "outputs": [
    {
     "data": {
      "text/plain": [
       "({}, {})"
      ]
     },
     "execution_count": 45,
     "metadata": {},
     "output_type": "execute_result"
    }
   ],
   "source": [
    "geo.geocode_fromList([loc[0][2]], min_popln=0)"
   ]
  },
  {
   "cell_type": "code",
   "execution_count": 33,
   "metadata": {},
   "outputs": [],
   "source": [
    "from geoutils import LocationDistribution"
   ]
  },
  {
   "cell_type": "code",
   "execution_count": 46,
   "metadata": {},
   "outputs": [
    {
     "data": {
      "text/plain": [
       "{u'France/\\xcele-de-France/Paris': <geoutils.GeoPoint at 0x7f0b43ff6350>,\n",
       " u'Iran/Ardab\\u012bl/b\\u0101r\\u012bs': <geoutils.GeoPoint at 0x7f0b43ff6710>,\n",
       " u'United States/Arkansas/Logan County': <geoutils.GeoPoint at 0x7f0b43ff6810>,\n",
       " u'United States/Illinois/Edgar County': <geoutils.GeoPoint at 0x7f0b43fd6110>,\n",
       " u'United States/Kentucky/Bourbon County': <geoutils.GeoPoint at 0x7f0b43ff6ad0>,\n",
       " u'United States/Maine/Oxford County': <geoutils.GeoPoint at 0x7f0b43ff6410>,\n",
       " u'United States/New York/Oneida County': <geoutils.GeoPoint at 0x7f0b43ff6250>,\n",
       " u'United States/Tennessee/Henry County': <geoutils.GeoPoint at 0x7f0b43ff6590>,\n",
       " u'United States/Texas/Lamar County': <geoutils.GeoPoint at 0x7f0b43fd6850>}"
      ]
     },
     "execution_count": 46,
     "metadata": {},
     "output_type": "execute_result"
    }
   ],
   "source": [
    "LocationDistribution(geo.gazetteer.query(loc[0][2])).realizations"
   ]
  },
  {
   "cell_type": "code",
   "execution_count": 44,
   "metadata": {},
   "outputs": [
    {
     "name": "stdout",
     "output_type": "stream",
     "text": [
      "باريس\n"
     ]
    }
   ],
   "source": []
  },
  {
   "cell_type": "code",
   "execution_count": null,
   "metadata": {},
   "outputs": [],
   "source": []
  }
 ],
 "metadata": {
  "kernelspec": {
   "display_name": "Python 3",
   "language": "python",
   "name": "python3"
  },
  "language_info": {
   "codemirror_mode": {
    "name": "ipython",
    "version": 3
   },
   "file_extension": ".py",
   "mimetype": "text/x-python",
   "name": "python",
   "nbconvert_exporter": "python",
   "pygments_lexer": "ipython3",
   "version": "3.6.5"
  }
 },
 "nbformat": 4,
 "nbformat_minor": 4
}
